{
 "cells": [
  {
   "cell_type": "markdown",
   "metadata": {},
   "source": [
    "6- El GCPD (Gotham City Police Dept) recolecta la información de casos policiales que acontecen en Ciudad Gótica. Esta información se encuentra guardada en un dataframe con el siguiente formato: (fecha, id_caso, descripcion, estado_caso, categoria, latitud, longitud). Los posibles estados que puede tener un caso son 1: caso abierto, 2: caso resuelto, 3: cerrado sin resolución. Las fechas se encuentran en el formato YYYY-MM-DD. Por otro lado el comisionado Gordon guarda un registro detallado sobre en cuáles casos fue activada la batiseñal para pedir ayuda del vigilante, Batman. Esta información se encuentra en un Dataframe con el siguiente formato (id_caso, respuesta), siendo campo respuesta si la señal tuvo una respuesta positiva (1) o negativa (0) de parte de él El sector encargado de las estadísticas oficiales del GCPD quiere con esta información analizar las siguientes situaciones: \n",
    "    A. Tasa de resolución de casos de la fuerza policial por categoría de caso (considerando aquellos casos en los que no participó Batman).\n",
    "    B. Tasa de resolución de casos con la ayuda de Batman (considerando que aquellos casos en los que fue llamado con la batiseñal, participó en la resolución). \n",
    "    C. Indicar el mes del año pasado en el que Batman tuvo mayor participación en la investigación de casos. "
   ]
  },
  {
   "cell_type": "code",
   "execution_count": 1,
   "metadata": {},
   "outputs": [],
   "source": [
    "import pandas as pd\n",
    "import numpy as np\n",
    "import matplotlib.pyplot as plt\n",
    "import seaborn as sns\n",
    "import random\n",
    "import datetime"
   ]
  },
  {
   "cell_type": "code",
   "execution_count": 2,
   "metadata": {},
   "outputs": [
    {
     "data": {
      "text/html": [
       "<div>\n",
       "<style scoped>\n",
       "    .dataframe tbody tr th:only-of-type {\n",
       "        vertical-align: middle;\n",
       "    }\n",
       "\n",
       "    .dataframe tbody tr th {\n",
       "        vertical-align: top;\n",
       "    }\n",
       "\n",
       "    .dataframe thead th {\n",
       "        text-align: right;\n",
       "    }\n",
       "</style>\n",
       "<table border=\"1\" class=\"dataframe\">\n",
       "  <thead>\n",
       "    <tr style=\"text-align: right;\">\n",
       "      <th></th>\n",
       "      <th>id_caso</th>\n",
       "      <th>respuesta</th>\n",
       "    </tr>\n",
       "  </thead>\n",
       "  <tbody>\n",
       "    <tr>\n",
       "      <th>0</th>\n",
       "      <td>100</td>\n",
       "      <td>0</td>\n",
       "    </tr>\n",
       "    <tr>\n",
       "      <th>1</th>\n",
       "      <td>101</td>\n",
       "      <td>0</td>\n",
       "    </tr>\n",
       "    <tr>\n",
       "      <th>2</th>\n",
       "      <td>102</td>\n",
       "      <td>0</td>\n",
       "    </tr>\n",
       "    <tr>\n",
       "      <th>3</th>\n",
       "      <td>103</td>\n",
       "      <td>0</td>\n",
       "    </tr>\n",
       "    <tr>\n",
       "      <th>4</th>\n",
       "      <td>104</td>\n",
       "      <td>1</td>\n",
       "    </tr>\n",
       "  </tbody>\n",
       "</table>\n",
       "</div>"
      ],
      "text/plain": [
       "   id_caso  respuesta\n",
       "0      100          0\n",
       "1      101          0\n",
       "2      102          0\n",
       "3      103          0\n",
       "4      104          1"
      ]
     },
     "execution_count": 2,
     "metadata": {},
     "output_type": "execute_result"
    }
   ],
   "source": [
    "tam=1000\n",
    "def crearDescripcion(x):\n",
    "    listaTipos=['robo','asesinato','violacion','bandalismo','incendio']\n",
    "    listaReturn=[]\n",
    "    for i in range(x):\n",
    "        listaReturn.append(listaTipos[random.randint(0,len(listaTipos)-1)])\n",
    "    return listaReturn\n",
    "\n",
    "def crearEstadoCaso(x):\n",
    "    listaTipos=['caso abierto', 'caso resuelto', 'cerrado sin resolución']\n",
    "    listaReturn=[]\n",
    "    for i in range(x):\n",
    "        listaReturn.append(listaTipos[random.randint(0,len(listaTipos)-1)])\n",
    "    return listaReturn\n",
    "\n",
    "def random_date(start, end, tiempo):\n",
    "    \"\"\"Generate a random datetime between `start` and `end`\"\"\"\n",
    "    x = start + datetime.timedelta(seconds=random.randint(0, int((end - start).total_seconds())),\n",
    "    ) \n",
    "    dicc = {'dia': x.day,'mes': x.month,'anio':x.year,'fecha':x.date()}\n",
    "    return dicc[tiempo]\n",
    "\n",
    "f=[]\n",
    "for x in range (tam): \n",
    "    f.append(random_date(pd.to_datetime('1/1/2018'),pd.to_datetime('1/1/2020'),'fecha'))\n",
    "\n",
    "gotham = {'fecha':f, \n",
    "            'id_caso':list(range(100,100+tam)), \n",
    "            'descripcion':crearDescripcion(tam), \n",
    "            'estado_caso': crearEstadoCaso(tam), \n",
    "            'categoria':np.random.randint(1,6,size=tam),\n",
    "            'latitud':np.random.randint(100,400,size=tam), \n",
    "            'longitud':np.random.randint(3000,5000,size=tam)}\n",
    "gdf = pd.DataFrame(gotham)\n",
    "\n",
    "batman = {'id_caso':list(range(100,100+tam)),\n",
    "         'respuesta':np.random.randint(0,2,size=tam)}\n",
    "bdf=pd.DataFrame(batman)\n",
    "bdf.head()"
   ]
  },
  {
   "cell_type": "markdown",
   "metadata": {},
   "source": [
    "A. Tasa de resolución de casos de la fuerza policial por categoría de caso (considerando aquellos casos en los que no participó Batman)"
   ]
  },
  {
   "cell_type": "code",
   "execution_count": 3,
   "metadata": {},
   "outputs": [
    {
     "data": {
      "text/html": [
       "<div>\n",
       "<style scoped>\n",
       "    .dataframe tbody tr th:only-of-type {\n",
       "        vertical-align: middle;\n",
       "    }\n",
       "\n",
       "    .dataframe tbody tr th {\n",
       "        vertical-align: top;\n",
       "    }\n",
       "\n",
       "    .dataframe thead th {\n",
       "        text-align: right;\n",
       "    }\n",
       "</style>\n",
       "<table border=\"1\" class=\"dataframe\">\n",
       "  <thead>\n",
       "    <tr style=\"text-align: right;\">\n",
       "      <th></th>\n",
       "      <th>fecha</th>\n",
       "      <th>id_caso</th>\n",
       "      <th>descripcion</th>\n",
       "      <th>estado_caso</th>\n",
       "      <th>categoria</th>\n",
       "      <th>latitud</th>\n",
       "      <th>longitud</th>\n",
       "      <th>respuesta</th>\n",
       "    </tr>\n",
       "  </thead>\n",
       "  <tbody>\n",
       "    <tr>\n",
       "      <th>0</th>\n",
       "      <td>2018-01-08</td>\n",
       "      <td>100</td>\n",
       "      <td>asesinato</td>\n",
       "      <td>caso resuelto</td>\n",
       "      <td>1</td>\n",
       "      <td>212</td>\n",
       "      <td>4998</td>\n",
       "      <td>0</td>\n",
       "    </tr>\n",
       "    <tr>\n",
       "      <th>1</th>\n",
       "      <td>2018-05-23</td>\n",
       "      <td>101</td>\n",
       "      <td>bandalismo</td>\n",
       "      <td>caso resuelto</td>\n",
       "      <td>4</td>\n",
       "      <td>179</td>\n",
       "      <td>4521</td>\n",
       "      <td>0</td>\n",
       "    </tr>\n",
       "    <tr>\n",
       "      <th>2</th>\n",
       "      <td>2018-11-30</td>\n",
       "      <td>102</td>\n",
       "      <td>asesinato</td>\n",
       "      <td>caso resuelto</td>\n",
       "      <td>2</td>\n",
       "      <td>157</td>\n",
       "      <td>3973</td>\n",
       "      <td>0</td>\n",
       "    </tr>\n",
       "    <tr>\n",
       "      <th>3</th>\n",
       "      <td>2018-08-17</td>\n",
       "      <td>103</td>\n",
       "      <td>bandalismo</td>\n",
       "      <td>cerrado sin resolución</td>\n",
       "      <td>5</td>\n",
       "      <td>356</td>\n",
       "      <td>4069</td>\n",
       "      <td>0</td>\n",
       "    </tr>\n",
       "    <tr>\n",
       "      <th>4</th>\n",
       "      <td>2018-01-08</td>\n",
       "      <td>104</td>\n",
       "      <td>violacion</td>\n",
       "      <td>caso resuelto</td>\n",
       "      <td>5</td>\n",
       "      <td>327</td>\n",
       "      <td>3541</td>\n",
       "      <td>1</td>\n",
       "    </tr>\n",
       "    <tr>\n",
       "      <th>...</th>\n",
       "      <td>...</td>\n",
       "      <td>...</td>\n",
       "      <td>...</td>\n",
       "      <td>...</td>\n",
       "      <td>...</td>\n",
       "      <td>...</td>\n",
       "      <td>...</td>\n",
       "      <td>...</td>\n",
       "    </tr>\n",
       "    <tr>\n",
       "      <th>995</th>\n",
       "      <td>2018-05-11</td>\n",
       "      <td>1095</td>\n",
       "      <td>bandalismo</td>\n",
       "      <td>cerrado sin resolución</td>\n",
       "      <td>1</td>\n",
       "      <td>139</td>\n",
       "      <td>4859</td>\n",
       "      <td>0</td>\n",
       "    </tr>\n",
       "    <tr>\n",
       "      <th>996</th>\n",
       "      <td>2019-01-20</td>\n",
       "      <td>1096</td>\n",
       "      <td>asesinato</td>\n",
       "      <td>caso resuelto</td>\n",
       "      <td>2</td>\n",
       "      <td>127</td>\n",
       "      <td>3943</td>\n",
       "      <td>1</td>\n",
       "    </tr>\n",
       "    <tr>\n",
       "      <th>997</th>\n",
       "      <td>2018-07-10</td>\n",
       "      <td>1097</td>\n",
       "      <td>robo</td>\n",
       "      <td>cerrado sin resolución</td>\n",
       "      <td>3</td>\n",
       "      <td>168</td>\n",
       "      <td>3105</td>\n",
       "      <td>1</td>\n",
       "    </tr>\n",
       "    <tr>\n",
       "      <th>998</th>\n",
       "      <td>2018-12-19</td>\n",
       "      <td>1098</td>\n",
       "      <td>violacion</td>\n",
       "      <td>caso abierto</td>\n",
       "      <td>4</td>\n",
       "      <td>325</td>\n",
       "      <td>3727</td>\n",
       "      <td>0</td>\n",
       "    </tr>\n",
       "    <tr>\n",
       "      <th>999</th>\n",
       "      <td>2018-11-09</td>\n",
       "      <td>1099</td>\n",
       "      <td>bandalismo</td>\n",
       "      <td>caso resuelto</td>\n",
       "      <td>5</td>\n",
       "      <td>177</td>\n",
       "      <td>3197</td>\n",
       "      <td>0</td>\n",
       "    </tr>\n",
       "  </tbody>\n",
       "</table>\n",
       "<p>1000 rows × 8 columns</p>\n",
       "</div>"
      ],
      "text/plain": [
       "          fecha  id_caso descripcion             estado_caso  categoria  \\\n",
       "0    2018-01-08      100   asesinato           caso resuelto          1   \n",
       "1    2018-05-23      101  bandalismo           caso resuelto          4   \n",
       "2    2018-11-30      102   asesinato           caso resuelto          2   \n",
       "3    2018-08-17      103  bandalismo  cerrado sin resolución          5   \n",
       "4    2018-01-08      104   violacion           caso resuelto          5   \n",
       "..          ...      ...         ...                     ...        ...   \n",
       "995  2018-05-11     1095  bandalismo  cerrado sin resolución          1   \n",
       "996  2019-01-20     1096   asesinato           caso resuelto          2   \n",
       "997  2018-07-10     1097        robo  cerrado sin resolución          3   \n",
       "998  2018-12-19     1098   violacion            caso abierto          4   \n",
       "999  2018-11-09     1099  bandalismo           caso resuelto          5   \n",
       "\n",
       "     latitud  longitud  respuesta  \n",
       "0        212      4998          0  \n",
       "1        179      4521          0  \n",
       "2        157      3973          0  \n",
       "3        356      4069          0  \n",
       "4        327      3541          1  \n",
       "..       ...       ...        ...  \n",
       "995      139      4859          0  \n",
       "996      127      3943          1  \n",
       "997      168      3105          1  \n",
       "998      325      3727          0  \n",
       "999      177      3197          0  \n",
       "\n",
       "[1000 rows x 8 columns]"
      ]
     },
     "execution_count": 3,
     "metadata": {},
     "output_type": "execute_result"
    }
   ],
   "source": [
    "ddf = gdf.merge(bdf,on='id_caso')\n",
    "ddf"
   ]
  },
  {
   "cell_type": "code",
   "execution_count": 4,
   "metadata": {},
   "outputs": [
    {
     "name": "stdout",
     "output_type": "stream",
     "text": [
      "Son resueltos 50.310559 % de los casos\n"
     ]
    }
   ],
   "source": [
    "tasaRes = len(ddf[(ddf['respuesta']==0) & (ddf['estado_caso']=='caso resuelto')]\n",
    "             )/len(ddf[(ddf['respuesta']==0) & (ddf['estado_caso']!='caso abierto')])*100\n",
    "print ('Son resueltos %f %% de los casos' %tasaRes)"
   ]
  },
  {
   "cell_type": "markdown",
   "metadata": {},
   "source": [
    "B. Tasa de resolución de casos con la ayuda de Batman (considerando que aquellos casos en los que fue llamado con la batiseñal, participó en la resolución)."
   ]
  },
  {
   "cell_type": "code",
   "execution_count": 5,
   "metadata": {},
   "outputs": [
    {
     "name": "stdout",
     "output_type": "stream",
     "text": [
      "Son resueltos 50.704225 % de los casos\n"
     ]
    }
   ],
   "source": [
    "tasaRes = len(ddf[(ddf['respuesta']==1) & (ddf['estado_caso']=='caso resuelto')]\n",
    "             )/len(ddf[(ddf['respuesta']==1) & (ddf['estado_caso']!='caso abierto')])*100\n",
    "print ('Son resueltos %f %% de los casos' %tasaRes)"
   ]
  },
  {
   "cell_type": "markdown",
   "metadata": {},
   "source": [
    "C. Indicar el mes del año pasado en el que Batman tuvo mayor participación en la investigación de casos."
   ]
  },
  {
   "cell_type": "code",
   "execution_count": 6,
   "metadata": {},
   "outputs": [],
   "source": [
    "ddf['mes']=ddf['fecha'].apply(lambda x:x.month)"
   ]
  },
  {
   "cell_type": "code",
   "execution_count": 7,
   "metadata": {},
   "outputs": [],
   "source": [
    "ddf['anio']=ddf['fecha'].apply(lambda x:x.year)"
   ]
  },
  {
   "cell_type": "code",
   "execution_count": 8,
   "metadata": {},
   "outputs": [
    {
     "data": {
      "text/html": [
       "<div>\n",
       "<style scoped>\n",
       "    .dataframe tbody tr th:only-of-type {\n",
       "        vertical-align: middle;\n",
       "    }\n",
       "\n",
       "    .dataframe tbody tr th {\n",
       "        vertical-align: top;\n",
       "    }\n",
       "\n",
       "    .dataframe thead th {\n",
       "        text-align: right;\n",
       "    }\n",
       "</style>\n",
       "<table border=\"1\" class=\"dataframe\">\n",
       "  <thead>\n",
       "    <tr style=\"text-align: right;\">\n",
       "      <th></th>\n",
       "      <th>fecha</th>\n",
       "      <th>id_caso</th>\n",
       "      <th>descripcion</th>\n",
       "      <th>estado_caso</th>\n",
       "      <th>categoria</th>\n",
       "      <th>latitud</th>\n",
       "      <th>longitud</th>\n",
       "      <th>respuesta</th>\n",
       "      <th>mes</th>\n",
       "      <th>anio</th>\n",
       "    </tr>\n",
       "  </thead>\n",
       "  <tbody>\n",
       "    <tr>\n",
       "      <th>0</th>\n",
       "      <td>2018-01-08</td>\n",
       "      <td>100</td>\n",
       "      <td>asesinato</td>\n",
       "      <td>caso resuelto</td>\n",
       "      <td>1</td>\n",
       "      <td>212</td>\n",
       "      <td>4998</td>\n",
       "      <td>0</td>\n",
       "      <td>1</td>\n",
       "      <td>2018</td>\n",
       "    </tr>\n",
       "    <tr>\n",
       "      <th>1</th>\n",
       "      <td>2018-05-23</td>\n",
       "      <td>101</td>\n",
       "      <td>bandalismo</td>\n",
       "      <td>caso resuelto</td>\n",
       "      <td>4</td>\n",
       "      <td>179</td>\n",
       "      <td>4521</td>\n",
       "      <td>0</td>\n",
       "      <td>5</td>\n",
       "      <td>2018</td>\n",
       "    </tr>\n",
       "    <tr>\n",
       "      <th>2</th>\n",
       "      <td>2018-11-30</td>\n",
       "      <td>102</td>\n",
       "      <td>asesinato</td>\n",
       "      <td>caso resuelto</td>\n",
       "      <td>2</td>\n",
       "      <td>157</td>\n",
       "      <td>3973</td>\n",
       "      <td>0</td>\n",
       "      <td>11</td>\n",
       "      <td>2018</td>\n",
       "    </tr>\n",
       "    <tr>\n",
       "      <th>3</th>\n",
       "      <td>2018-08-17</td>\n",
       "      <td>103</td>\n",
       "      <td>bandalismo</td>\n",
       "      <td>cerrado sin resolución</td>\n",
       "      <td>5</td>\n",
       "      <td>356</td>\n",
       "      <td>4069</td>\n",
       "      <td>0</td>\n",
       "      <td>8</td>\n",
       "      <td>2018</td>\n",
       "    </tr>\n",
       "    <tr>\n",
       "      <th>4</th>\n",
       "      <td>2018-01-08</td>\n",
       "      <td>104</td>\n",
       "      <td>violacion</td>\n",
       "      <td>caso resuelto</td>\n",
       "      <td>5</td>\n",
       "      <td>327</td>\n",
       "      <td>3541</td>\n",
       "      <td>1</td>\n",
       "      <td>1</td>\n",
       "      <td>2018</td>\n",
       "    </tr>\n",
       "  </tbody>\n",
       "</table>\n",
       "</div>"
      ],
      "text/plain": [
       "        fecha  id_caso descripcion             estado_caso  categoria  \\\n",
       "0  2018-01-08      100   asesinato           caso resuelto          1   \n",
       "1  2018-05-23      101  bandalismo           caso resuelto          4   \n",
       "2  2018-11-30      102   asesinato           caso resuelto          2   \n",
       "3  2018-08-17      103  bandalismo  cerrado sin resolución          5   \n",
       "4  2018-01-08      104   violacion           caso resuelto          5   \n",
       "\n",
       "   latitud  longitud  respuesta  mes  anio  \n",
       "0      212      4998          0    1  2018  \n",
       "1      179      4521          0    5  2018  \n",
       "2      157      3973          0   11  2018  \n",
       "3      356      4069          0    8  2018  \n",
       "4      327      3541          1    1  2018  "
      ]
     },
     "execution_count": 8,
     "metadata": {},
     "output_type": "execute_result"
    }
   ],
   "source": [
    "ddf.head()"
   ]
  },
  {
   "cell_type": "code",
   "execution_count": 9,
   "metadata": {},
   "outputs": [
    {
     "data": {
      "text/html": [
       "<div>\n",
       "<style scoped>\n",
       "    .dataframe tbody tr th:only-of-type {\n",
       "        vertical-align: middle;\n",
       "    }\n",
       "\n",
       "    .dataframe tbody tr th {\n",
       "        vertical-align: top;\n",
       "    }\n",
       "\n",
       "    .dataframe thead th {\n",
       "        text-align: right;\n",
       "    }\n",
       "</style>\n",
       "<table border=\"1\" class=\"dataframe\">\n",
       "  <thead>\n",
       "    <tr style=\"text-align: right;\">\n",
       "      <th></th>\n",
       "      <th>mes</th>\n",
       "      <th>respuesta</th>\n",
       "    </tr>\n",
       "  </thead>\n",
       "  <tbody>\n",
       "    <tr>\n",
       "      <th>0</th>\n",
       "      <td>7</td>\n",
       "      <td>27</td>\n",
       "    </tr>\n",
       "    <tr>\n",
       "      <th>1</th>\n",
       "      <td>10</td>\n",
       "      <td>27</td>\n",
       "    </tr>\n",
       "    <tr>\n",
       "      <th>2</th>\n",
       "      <td>6</td>\n",
       "      <td>24</td>\n",
       "    </tr>\n",
       "    <tr>\n",
       "      <th>3</th>\n",
       "      <td>11</td>\n",
       "      <td>22</td>\n",
       "    </tr>\n",
       "    <tr>\n",
       "      <th>4</th>\n",
       "      <td>5</td>\n",
       "      <td>21</td>\n",
       "    </tr>\n",
       "  </tbody>\n",
       "</table>\n",
       "</div>"
      ],
      "text/plain": [
       "   mes  respuesta\n",
       "0    7         27\n",
       "1   10         27\n",
       "2    6         24\n",
       "3   11         22\n",
       "4    5         21"
      ]
     },
     "execution_count": 9,
     "metadata": {},
     "output_type": "execute_result"
    }
   ],
   "source": [
    "mdf=ddf.groupby('anio').get_group(2019).groupby('mes').agg({'respuesta':'sum'}).sort_values(by='respuesta',ascending=False).reset_index()\n",
    "mdf.head()"
   ]
  },
  {
   "cell_type": "code",
   "execution_count": 10,
   "metadata": {},
   "outputs": [
    {
     "data": {
      "text/plain": [
       "array([ 7, 10], dtype=int64)"
      ]
     },
     "execution_count": 10,
     "metadata": {},
     "output_type": "execute_result"
    }
   ],
   "source": [
    "meses=mdf[mdf['respuesta']==mdf.loc[0,'respuesta']].mes.values\n",
    "meses"
   ]
  },
  {
   "cell_type": "code",
   "execution_count": 11,
   "metadata": {},
   "outputs": [
    {
     "name": "stdout",
     "output_type": "stream",
     "text": [
      "Mes que tuvo mayor participación: 7,10\n"
     ]
    }
   ],
   "source": [
    "print('Mes que tuvo mayor participación: %s' %','.join(map(str, meses)))"
   ]
  }
 ],
 "metadata": {
  "kernelspec": {
   "display_name": "Python 3",
   "language": "python",
   "name": "python3"
  },
  "language_info": {
   "codemirror_mode": {
    "name": "ipython",
    "version": 3
   },
   "file_extension": ".py",
   "mimetype": "text/x-python",
   "name": "python",
   "nbconvert_exporter": "python",
   "pygments_lexer": "ipython3",
   "version": "3.7.6"
  }
 },
 "nbformat": 4,
 "nbformat_minor": 4
}
