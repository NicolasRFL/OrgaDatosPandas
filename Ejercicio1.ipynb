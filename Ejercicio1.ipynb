{
 "cells": [
  {
   "cell_type": "markdown",
   "metadata": {},
   "source": [
    "Guía 1: Pandas\n",
    "\n",
    "\n",
    "1- Dado el registro de notas de los alumnos de la forma (padrón, materia, nota, fecha). Se pide resolver utilizando Pandas:\n",
    "    A. Cuál es el promedio general de notas.\n",
    "    B. Cuál es la nota más alta y la nota más baja registrada durante el año 2019.\n",
    "    C. Cuál es el padrón con mayor cantidad de materias aprobadas durante el último cuatrimestre.\n",
    "    D. Cuál es la nota promedio por materia.\n",
    "    E. Cuál es la nota promedio por padrón.\n"
   ]
  },
  {
   "cell_type": "code",
   "execution_count": 1,
   "metadata": {},
   "outputs": [],
   "source": [
    "import pandas as pd\n",
    "import numpy as np\n",
    "import matplotlib.pyplot as plt\n",
    "import seaborn as sns"
   ]
  },
  {
   "cell_type": "markdown",
   "metadata": {},
   "source": [
    "Parte A"
   ]
  },
  {
   "cell_type": "code",
   "execution_count": 2,
   "metadata": {},
   "outputs": [
    {
     "name": "stdout",
     "output_type": "stream",
     "text": [
      "<class 'pandas.core.frame.DataFrame'>\n",
      "RangeIndex: 10 entries, 0 to 9\n",
      "Data columns (total 4 columns):\n",
      " #   Column  Non-Null Count  Dtype \n",
      "---  ------  --------------  ----- \n",
      " 0   PADRON  10 non-null     int64 \n",
      " 1   MAT     10 non-null     object\n",
      " 2   NOTA    10 non-null     int64 \n",
      " 3   FECHA   10 non-null     object\n",
      "dtypes: int64(2), object(2)\n",
      "memory usage: 448.0+ bytes\n"
     ]
    }
   ],
   "source": [
    "alumn = {'PADRON':[8201,1201,1201,6314,9230,9201,8941,8231,8135,8135],'MAT':['am2','an1','am2','an1','fis2','am2','am2','am2','fis2','am2'],\n",
    "         'NOTA':[5,2,10,5,7,9,8,7,10,5],'FECHA':['3/6/2018','1/1/2019','3/6/2018','3/6/2018','1/1/2019','1/1/2019','1/1/2019','1/1/2019','1/1/2019','1/1/2019']}\n",
    "dfalumn = pd.DataFrame(alumn)\n",
    "dfalumn.info()"
   ]
  },
  {
   "cell_type": "code",
   "execution_count": 3,
   "metadata": {},
   "outputs": [],
   "source": [
    "promedioGeneral = dfalumn.NOTA.mean()"
   ]
  },
  {
   "cell_type": "markdown",
   "metadata": {},
   "source": [
    "Parte B"
   ]
  },
  {
   "cell_type": "code",
   "execution_count": 4,
   "metadata": {
    "scrolled": true
   },
   "outputs": [
    {
     "data": {
      "text/html": [
       "<div>\n",
       "<style scoped>\n",
       "    .dataframe tbody tr th:only-of-type {\n",
       "        vertical-align: middle;\n",
       "    }\n",
       "\n",
       "    .dataframe tbody tr th {\n",
       "        vertical-align: top;\n",
       "    }\n",
       "\n",
       "    .dataframe thead th {\n",
       "        text-align: right;\n",
       "    }\n",
       "</style>\n",
       "<table border=\"1\" class=\"dataframe\">\n",
       "  <thead>\n",
       "    <tr style=\"text-align: right;\">\n",
       "      <th></th>\n",
       "      <th>PADRON</th>\n",
       "      <th>MAT</th>\n",
       "      <th>NOTA</th>\n",
       "      <th>FECHA</th>\n",
       "    </tr>\n",
       "  </thead>\n",
       "  <tbody>\n",
       "    <tr>\n",
       "      <th>0</th>\n",
       "      <td>8201</td>\n",
       "      <td>am2</td>\n",
       "      <td>5</td>\n",
       "      <td>2018-03-06</td>\n",
       "    </tr>\n",
       "    <tr>\n",
       "      <th>1</th>\n",
       "      <td>1201</td>\n",
       "      <td>an1</td>\n",
       "      <td>2</td>\n",
       "      <td>2019-01-01</td>\n",
       "    </tr>\n",
       "    <tr>\n",
       "      <th>2</th>\n",
       "      <td>1201</td>\n",
       "      <td>am2</td>\n",
       "      <td>10</td>\n",
       "      <td>2018-03-06</td>\n",
       "    </tr>\n",
       "    <tr>\n",
       "      <th>3</th>\n",
       "      <td>6314</td>\n",
       "      <td>an1</td>\n",
       "      <td>5</td>\n",
       "      <td>2018-03-06</td>\n",
       "    </tr>\n",
       "    <tr>\n",
       "      <th>4</th>\n",
       "      <td>9230</td>\n",
       "      <td>fis2</td>\n",
       "      <td>7</td>\n",
       "      <td>2019-01-01</td>\n",
       "    </tr>\n",
       "  </tbody>\n",
       "</table>\n",
       "</div>"
      ],
      "text/plain": [
       "   PADRON   MAT  NOTA      FECHA\n",
       "0    8201   am2     5 2018-03-06\n",
       "1    1201   an1     2 2019-01-01\n",
       "2    1201   am2    10 2018-03-06\n",
       "3    6314   an1     5 2018-03-06\n",
       "4    9230  fis2     7 2019-01-01"
      ]
     },
     "execution_count": 4,
     "metadata": {},
     "output_type": "execute_result"
    }
   ],
   "source": [
    "dfalumn['FECHA'] = dfalumn['FECHA'].apply(lambda x: pd.to_datetime(x))\n",
    "dfalumn.head()"
   ]
  },
  {
   "cell_type": "code",
   "execution_count": 5,
   "metadata": {},
   "outputs": [
    {
     "data": {
      "text/html": [
       "<div>\n",
       "<style scoped>\n",
       "    .dataframe tbody tr th:only-of-type {\n",
       "        vertical-align: middle;\n",
       "    }\n",
       "\n",
       "    .dataframe tbody tr th {\n",
       "        vertical-align: top;\n",
       "    }\n",
       "\n",
       "    .dataframe thead th {\n",
       "        text-align: right;\n",
       "    }\n",
       "</style>\n",
       "<table border=\"1\" class=\"dataframe\">\n",
       "  <thead>\n",
       "    <tr style=\"text-align: right;\">\n",
       "      <th></th>\n",
       "      <th>PADRON</th>\n",
       "      <th>MAT</th>\n",
       "      <th>NOTA</th>\n",
       "      <th>FECHA</th>\n",
       "    </tr>\n",
       "  </thead>\n",
       "  <tbody>\n",
       "    <tr>\n",
       "      <th>1</th>\n",
       "      <td>1201</td>\n",
       "      <td>an1</td>\n",
       "      <td>2</td>\n",
       "      <td>2019-01-01</td>\n",
       "    </tr>\n",
       "    <tr>\n",
       "      <th>4</th>\n",
       "      <td>9230</td>\n",
       "      <td>fis2</td>\n",
       "      <td>7</td>\n",
       "      <td>2019-01-01</td>\n",
       "    </tr>\n",
       "    <tr>\n",
       "      <th>5</th>\n",
       "      <td>9201</td>\n",
       "      <td>am2</td>\n",
       "      <td>9</td>\n",
       "      <td>2019-01-01</td>\n",
       "    </tr>\n",
       "    <tr>\n",
       "      <th>6</th>\n",
       "      <td>8941</td>\n",
       "      <td>am2</td>\n",
       "      <td>8</td>\n",
       "      <td>2019-01-01</td>\n",
       "    </tr>\n",
       "    <tr>\n",
       "      <th>7</th>\n",
       "      <td>8231</td>\n",
       "      <td>am2</td>\n",
       "      <td>7</td>\n",
       "      <td>2019-01-01</td>\n",
       "    </tr>\n",
       "  </tbody>\n",
       "</table>\n",
       "</div>"
      ],
      "text/plain": [
       "   PADRON   MAT  NOTA      FECHA\n",
       "1    1201   an1     2 2019-01-01\n",
       "4    9230  fis2     7 2019-01-01\n",
       "5    9201   am2     9 2019-01-01\n",
       "6    8941   am2     8 2019-01-01\n",
       "7    8231   am2     7 2019-01-01"
      ]
     },
     "execution_count": 5,
     "metadata": {},
     "output_type": "execute_result"
    }
   ],
   "source": [
    "dfalumn2019=dfalumn[(dfalumn['FECHA'].dt.year==2019)]\n",
    "dfalumn2019.head()"
   ]
  },
  {
   "cell_type": "code",
   "execution_count": 6,
   "metadata": {},
   "outputs": [
    {
     "data": {
      "text/plain": [
       "2.0"
      ]
     },
     "execution_count": 6,
     "metadata": {},
     "output_type": "execute_result"
    }
   ],
   "source": [
    "min2019 = dfalumn2019.NOTA.describe().loc['min']\n",
    "min2019"
   ]
  },
  {
   "cell_type": "code",
   "execution_count": 7,
   "metadata": {},
   "outputs": [
    {
     "data": {
      "text/plain": [
       "10.0"
      ]
     },
     "execution_count": 7,
     "metadata": {},
     "output_type": "execute_result"
    }
   ],
   "source": [
    "max2019 = dfalumn2019.NOTA.describe().loc['max']\n",
    "max2019"
   ]
  },
  {
   "cell_type": "markdown",
   "metadata": {},
   "source": [
    "Parte C"
   ]
  },
  {
   "cell_type": "code",
   "execution_count": 8,
   "metadata": {},
   "outputs": [
    {
     "data": {
      "text/html": [
       "<div>\n",
       "<style scoped>\n",
       "    .dataframe tbody tr th:only-of-type {\n",
       "        vertical-align: middle;\n",
       "    }\n",
       "\n",
       "    .dataframe tbody tr th {\n",
       "        vertical-align: top;\n",
       "    }\n",
       "\n",
       "    .dataframe thead th {\n",
       "        text-align: right;\n",
       "    }\n",
       "</style>\n",
       "<table border=\"1\" class=\"dataframe\">\n",
       "  <thead>\n",
       "    <tr style=\"text-align: right;\">\n",
       "      <th></th>\n",
       "      <th>PADRON</th>\n",
       "      <th>MAT</th>\n",
       "      <th>NOTA</th>\n",
       "      <th>FECHA</th>\n",
       "      <th>APROBADA</th>\n",
       "    </tr>\n",
       "  </thead>\n",
       "  <tbody>\n",
       "    <tr>\n",
       "      <th>0</th>\n",
       "      <td>8201</td>\n",
       "      <td>am2</td>\n",
       "      <td>5</td>\n",
       "      <td>2018-03-06</td>\n",
       "      <td>1</td>\n",
       "    </tr>\n",
       "    <tr>\n",
       "      <th>1</th>\n",
       "      <td>1201</td>\n",
       "      <td>an1</td>\n",
       "      <td>2</td>\n",
       "      <td>2019-01-01</td>\n",
       "      <td>0</td>\n",
       "    </tr>\n",
       "    <tr>\n",
       "      <th>2</th>\n",
       "      <td>1201</td>\n",
       "      <td>am2</td>\n",
       "      <td>10</td>\n",
       "      <td>2018-03-06</td>\n",
       "      <td>1</td>\n",
       "    </tr>\n",
       "    <tr>\n",
       "      <th>3</th>\n",
       "      <td>6314</td>\n",
       "      <td>an1</td>\n",
       "      <td>5</td>\n",
       "      <td>2018-03-06</td>\n",
       "      <td>1</td>\n",
       "    </tr>\n",
       "    <tr>\n",
       "      <th>4</th>\n",
       "      <td>9230</td>\n",
       "      <td>fis2</td>\n",
       "      <td>7</td>\n",
       "      <td>2019-01-01</td>\n",
       "      <td>1</td>\n",
       "    </tr>\n",
       "  </tbody>\n",
       "</table>\n",
       "</div>"
      ],
      "text/plain": [
       "   PADRON   MAT  NOTA      FECHA  APROBADA\n",
       "0    8201   am2     5 2018-03-06         1\n",
       "1    1201   an1     2 2019-01-01         0\n",
       "2    1201   am2    10 2018-03-06         1\n",
       "3    6314   an1     5 2018-03-06         1\n",
       "4    9230  fis2     7 2019-01-01         1"
      ]
     },
     "execution_count": 8,
     "metadata": {},
     "output_type": "execute_result"
    }
   ],
   "source": [
    "dfalumn['APROBADA'] = (dfalumn.NOTA >= 4).astype(int)\n",
    "dfalumn.head()"
   ]
  },
  {
   "cell_type": "code",
   "execution_count": 9,
   "metadata": {},
   "outputs": [
    {
     "data": {
      "text/html": [
       "<div>\n",
       "<style scoped>\n",
       "    .dataframe tbody tr th:only-of-type {\n",
       "        vertical-align: middle;\n",
       "    }\n",
       "\n",
       "    .dataframe tbody tr th {\n",
       "        vertical-align: top;\n",
       "    }\n",
       "\n",
       "    .dataframe thead th {\n",
       "        text-align: right;\n",
       "    }\n",
       "</style>\n",
       "<table border=\"1\" class=\"dataframe\">\n",
       "  <thead>\n",
       "    <tr style=\"text-align: right;\">\n",
       "      <th></th>\n",
       "      <th>PADRON</th>\n",
       "      <th>MAT</th>\n",
       "      <th>NOTA</th>\n",
       "      <th>FECHA</th>\n",
       "      <th>APROBADA</th>\n",
       "    </tr>\n",
       "  </thead>\n",
       "  <tbody>\n",
       "    <tr>\n",
       "      <th>1</th>\n",
       "      <td>1201</td>\n",
       "      <td>an1</td>\n",
       "      <td>2</td>\n",
       "      <td>2019-01-01</td>\n",
       "      <td>0</td>\n",
       "    </tr>\n",
       "    <tr>\n",
       "      <th>4</th>\n",
       "      <td>9230</td>\n",
       "      <td>fis2</td>\n",
       "      <td>7</td>\n",
       "      <td>2019-01-01</td>\n",
       "      <td>1</td>\n",
       "    </tr>\n",
       "    <tr>\n",
       "      <th>5</th>\n",
       "      <td>9201</td>\n",
       "      <td>am2</td>\n",
       "      <td>9</td>\n",
       "      <td>2019-01-01</td>\n",
       "      <td>1</td>\n",
       "    </tr>\n",
       "    <tr>\n",
       "      <th>6</th>\n",
       "      <td>8941</td>\n",
       "      <td>am2</td>\n",
       "      <td>8</td>\n",
       "      <td>2019-01-01</td>\n",
       "      <td>1</td>\n",
       "    </tr>\n",
       "    <tr>\n",
       "      <th>7</th>\n",
       "      <td>8231</td>\n",
       "      <td>am2</td>\n",
       "      <td>7</td>\n",
       "      <td>2019-01-01</td>\n",
       "      <td>1</td>\n",
       "    </tr>\n",
       "    <tr>\n",
       "      <th>8</th>\n",
       "      <td>8135</td>\n",
       "      <td>fis2</td>\n",
       "      <td>10</td>\n",
       "      <td>2019-01-01</td>\n",
       "      <td>1</td>\n",
       "    </tr>\n",
       "    <tr>\n",
       "      <th>9</th>\n",
       "      <td>8135</td>\n",
       "      <td>am2</td>\n",
       "      <td>5</td>\n",
       "      <td>2019-01-01</td>\n",
       "      <td>1</td>\n",
       "    </tr>\n",
       "  </tbody>\n",
       "</table>\n",
       "</div>"
      ],
      "text/plain": [
       "   PADRON   MAT  NOTA      FECHA  APROBADA\n",
       "1    1201   an1     2 2019-01-01         0\n",
       "4    9230  fis2     7 2019-01-01         1\n",
       "5    9201   am2     9 2019-01-01         1\n",
       "6    8941   am2     8 2019-01-01         1\n",
       "7    8231   am2     7 2019-01-01         1\n",
       "8    8135  fis2    10 2019-01-01         1\n",
       "9    8135   am2     5 2019-01-01         1"
      ]
     },
     "execution_count": 9,
     "metadata": {},
     "output_type": "execute_result"
    }
   ],
   "source": [
    "dfalumnUltimoCuatri=dfalumn[(dfalumn['FECHA'].dt.year==2019) & (dfalumn['FECHA'].dt.month==1)]\n",
    "dfalumnUltimoCuatri"
   ]
  },
  {
   "cell_type": "code",
   "execution_count": 11,
   "metadata": {},
   "outputs": [],
   "source": [
    "dfalumnUltimoCuatri = dfalumnUltimoCuatri.groupby('PADRON').agg({'APROBADA':['sum']})['APROBADA'].sort_values('sum',ascending=False)"
   ]
  },
  {
   "cell_type": "code",
   "execution_count": 28,
   "metadata": {},
   "outputs": [
    {
     "data": {
      "text/plain": [
       "[8135]"
      ]
     },
     "execution_count": 28,
     "metadata": {},
     "output_type": "execute_result"
    }
   ],
   "source": [
    "cantidadMat = dfalumnUltimoCuatri.reset_index()['sum'].loc[0]\n",
    "listaPadrones=dfalumnUltimoCuatri[dfalumnUltimoCuatri['sum']==cantidadMat].reset_index()['PADRON'].to_list()\n",
    "listaPadrones"
   ]
  },
  {
   "cell_type": "markdown",
   "metadata": {},
   "source": [
    "Parte D"
   ]
  },
  {
   "cell_type": "code",
   "execution_count": 34,
   "metadata": {},
   "outputs": [
    {
     "data": {
      "text/plain": [
       "{'am2': 7.333333333333333, 'an1': 3.5, 'fis2': 8.5}"
      ]
     },
     "execution_count": 34,
     "metadata": {},
     "output_type": "execute_result"
    }
   ],
   "source": [
    "dfalumn.groupby('MAT').agg({'NOTA':'mean'}).NOTA.to_dict()"
   ]
  },
  {
   "cell_type": "markdown",
   "metadata": {},
   "source": [
    "Parte E"
   ]
  },
  {
   "cell_type": "code",
   "execution_count": 32,
   "metadata": {},
   "outputs": [
    {
     "data": {
      "text/plain": [
       "{1201: 6.0,\n",
       " 6314: 5.0,\n",
       " 8135: 7.5,\n",
       " 8201: 5.0,\n",
       " 8231: 7.0,\n",
       " 8941: 8.0,\n",
       " 9201: 9.0,\n",
       " 9230: 7.0}"
      ]
     },
     "execution_count": 32,
     "metadata": {},
     "output_type": "execute_result"
    }
   ],
   "source": [
    "dfalumn.groupby('PADRON').agg({'NOTA':'mean'}).NOTA.to_dict()"
   ]
  },
  {
   "cell_type": "code",
   "execution_count": null,
   "metadata": {},
   "outputs": [],
   "source": []
  }
 ],
 "metadata": {
  "kernelspec": {
   "display_name": "Python 3",
   "language": "python",
   "name": "python3"
  },
  "language_info": {
   "codemirror_mode": {
    "name": "ipython",
    "version": 3
   },
   "file_extension": ".py",
   "mimetype": "text/x-python",
   "name": "python",
   "nbconvert_exporter": "python",
   "pygments_lexer": "ipython3",
   "version": "3.7.6"
  }
 },
 "nbformat": 4,
 "nbformat_minor": 4
}
