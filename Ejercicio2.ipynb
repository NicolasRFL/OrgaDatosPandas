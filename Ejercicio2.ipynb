{
 "cells": [
  {
   "cell_type": "markdown",
   "metadata": {},
   "source": [
    "2- Se tiene un registro de transacciones bancarias, de la forma (nro de transacción, tipo de transacción, cuenta origen, cuenta destino, fecha, hora, monto). Se pide resolver en Pandas:\n",
    "    A. Validar que todas las transacciones cuenten con un tipo de transacción.\n",
    "    B. Validar que para las transacciones del tipo transferencia, exista siempre tanto cuenta origen como cuenta destino.\n",
    "    C. Verificar que todas las transacciones del tipo transferencia, depósito y extracción cuenten con montos distintos de cero.\n",
    "    D. Indicar cuáles fueron las 10 transacciones de mayor monto.\n",
    "    E. Indicar cuál es el tipo de transacción que registra mayor monto promedio.\n",
    "    F. Indicar cuáles son las 5 cuentas con mayor cantidad de transacciones.\n",
    "    G. Indicar cuáles son las 5 cuentas con mayor monto involucrado.\n",
    "    H. Para el tipo de transacción con mayor cantidad de monto promedio, indicar cuales son las 5 cuentas con más transacciones."
   ]
  },
  {
   "cell_type": "code",
   "execution_count": 1,
   "metadata": {},
   "outputs": [],
   "source": [
    "import pandas as pd\n",
    "import numpy as np\n",
    "import matplotlib.pyplot as plt\n",
    "import seaborn as sns\n",
    "import random\n",
    "import datetime"
   ]
  },
  {
   "cell_type": "code",
   "execution_count": 2,
   "metadata": {},
   "outputs": [
    {
     "data": {
      "text/html": [
       "<div>\n",
       "<style scoped>\n",
       "    .dataframe tbody tr th:only-of-type {\n",
       "        vertical-align: middle;\n",
       "    }\n",
       "\n",
       "    .dataframe tbody tr th {\n",
       "        vertical-align: top;\n",
       "    }\n",
       "\n",
       "    .dataframe thead th {\n",
       "        text-align: right;\n",
       "    }\n",
       "</style>\n",
       "<table border=\"1\" class=\"dataframe\">\n",
       "  <thead>\n",
       "    <tr style=\"text-align: right;\">\n",
       "      <th></th>\n",
       "      <th>NROTRANSACCION</th>\n",
       "      <th>TIPO</th>\n",
       "      <th>CUENTAORIGEN</th>\n",
       "      <th>CUENTADESTINO</th>\n",
       "      <th>FECHA</th>\n",
       "      <th>HORA</th>\n",
       "      <th>MONTO</th>\n",
       "    </tr>\n",
       "  </thead>\n",
       "  <tbody>\n",
       "    <tr>\n",
       "      <th>0</th>\n",
       "      <td>74</td>\n",
       "      <td>extraccion</td>\n",
       "      <td>1001</td>\n",
       "      <td>1001</td>\n",
       "      <td>2008-08-28</td>\n",
       "      <td>03:55:42</td>\n",
       "      <td>91</td>\n",
       "    </tr>\n",
       "    <tr>\n",
       "      <th>1</th>\n",
       "      <td>44</td>\n",
       "      <td>deposito</td>\n",
       "      <td>1001</td>\n",
       "      <td>1000</td>\n",
       "      <td>2008-08-14</td>\n",
       "      <td>00:01:16</td>\n",
       "      <td>58</td>\n",
       "    </tr>\n",
       "    <tr>\n",
       "      <th>2</th>\n",
       "      <td>60</td>\n",
       "      <td>extraccion</td>\n",
       "      <td>1001</td>\n",
       "      <td>1004</td>\n",
       "      <td>2008-05-28</td>\n",
       "      <td>17:20:50</td>\n",
       "      <td>2</td>\n",
       "    </tr>\n",
       "    <tr>\n",
       "      <th>3</th>\n",
       "      <td>91</td>\n",
       "      <td>deposito</td>\n",
       "      <td>1001</td>\n",
       "      <td>1002</td>\n",
       "      <td>2008-07-11</td>\n",
       "      <td>12:14:34</td>\n",
       "      <td>6</td>\n",
       "    </tr>\n",
       "    <tr>\n",
       "      <th>4</th>\n",
       "      <td>27</td>\n",
       "      <td>deposito</td>\n",
       "      <td>1001</td>\n",
       "      <td>1004</td>\n",
       "      <td>2008-09-03</td>\n",
       "      <td>21:23:00</td>\n",
       "      <td>56</td>\n",
       "    </tr>\n",
       "    <tr>\n",
       "      <th>5</th>\n",
       "      <td>7</td>\n",
       "      <td>extraccion</td>\n",
       "      <td>1004</td>\n",
       "      <td>1004</td>\n",
       "      <td>2008-08-28</td>\n",
       "      <td>13:01:02</td>\n",
       "      <td>95</td>\n",
       "    </tr>\n",
       "    <tr>\n",
       "      <th>6</th>\n",
       "      <td>45</td>\n",
       "      <td>deposito</td>\n",
       "      <td>1001</td>\n",
       "      <td>1002</td>\n",
       "      <td>2008-11-04</td>\n",
       "      <td>03:04:13</td>\n",
       "      <td>10</td>\n",
       "    </tr>\n",
       "    <tr>\n",
       "      <th>7</th>\n",
       "      <td>81</td>\n",
       "      <td>deposito</td>\n",
       "      <td>1002</td>\n",
       "      <td>1003</td>\n",
       "      <td>2008-11-05</td>\n",
       "      <td>20:08:02</td>\n",
       "      <td>86</td>\n",
       "    </tr>\n",
       "    <tr>\n",
       "      <th>8</th>\n",
       "      <td>65</td>\n",
       "      <td>deposito</td>\n",
       "      <td>1003</td>\n",
       "      <td>1003</td>\n",
       "      <td>2008-05-26</td>\n",
       "      <td>10:07:45</td>\n",
       "      <td>11</td>\n",
       "    </tr>\n",
       "    <tr>\n",
       "      <th>9</th>\n",
       "      <td>55</td>\n",
       "      <td>extraccion</td>\n",
       "      <td>1003</td>\n",
       "      <td>1001</td>\n",
       "      <td>2008-05-09</td>\n",
       "      <td>01:51:23</td>\n",
       "      <td>50</td>\n",
       "    </tr>\n",
       "    <tr>\n",
       "      <th>10</th>\n",
       "      <td>59</td>\n",
       "      <td>deposito</td>\n",
       "      <td>1001</td>\n",
       "      <td>1002</td>\n",
       "      <td>2008-02-05</td>\n",
       "      <td>22:28:06</td>\n",
       "      <td>11</td>\n",
       "    </tr>\n",
       "    <tr>\n",
       "      <th>11</th>\n",
       "      <td>92</td>\n",
       "      <td>extraccion</td>\n",
       "      <td>1004</td>\n",
       "      <td>1002</td>\n",
       "      <td>2008-07-30</td>\n",
       "      <td>20:26:37</td>\n",
       "      <td>65</td>\n",
       "    </tr>\n",
       "    <tr>\n",
       "      <th>12</th>\n",
       "      <td>90</td>\n",
       "      <td>extraccion</td>\n",
       "      <td>1002</td>\n",
       "      <td>1002</td>\n",
       "      <td>2008-12-12</td>\n",
       "      <td>16:57:33</td>\n",
       "      <td>80</td>\n",
       "    </tr>\n",
       "    <tr>\n",
       "      <th>13</th>\n",
       "      <td>29</td>\n",
       "      <td>deposito</td>\n",
       "      <td>1002</td>\n",
       "      <td>1004</td>\n",
       "      <td>2008-10-15</td>\n",
       "      <td>15:49:11</td>\n",
       "      <td>38</td>\n",
       "    </tr>\n",
       "    <tr>\n",
       "      <th>14</th>\n",
       "      <td>57</td>\n",
       "      <td>deposito</td>\n",
       "      <td>1002</td>\n",
       "      <td>1001</td>\n",
       "      <td>2008-08-15</td>\n",
       "      <td>06:28:47</td>\n",
       "      <td>46</td>\n",
       "    </tr>\n",
       "  </tbody>\n",
       "</table>\n",
       "</div>"
      ],
      "text/plain": [
       "    NROTRANSACCION        TIPO  CUENTAORIGEN  CUENTADESTINO       FECHA  \\\n",
       "0               74  extraccion          1001           1001  2008-08-28   \n",
       "1               44    deposito          1001           1000  2008-08-14   \n",
       "2               60  extraccion          1001           1004  2008-05-28   \n",
       "3               91    deposito          1001           1002  2008-07-11   \n",
       "4               27    deposito          1001           1004  2008-09-03   \n",
       "5                7  extraccion          1004           1004  2008-08-28   \n",
       "6               45    deposito          1001           1002  2008-11-04   \n",
       "7               81    deposito          1002           1003  2008-11-05   \n",
       "8               65    deposito          1003           1003  2008-05-26   \n",
       "9               55  extraccion          1003           1001  2008-05-09   \n",
       "10              59    deposito          1001           1002  2008-02-05   \n",
       "11              92  extraccion          1004           1002  2008-07-30   \n",
       "12              90  extraccion          1002           1002  2008-12-12   \n",
       "13              29    deposito          1002           1004  2008-10-15   \n",
       "14              57    deposito          1002           1001  2008-08-15   \n",
       "\n",
       "        HORA  MONTO  \n",
       "0   03:55:42     91  \n",
       "1   00:01:16     58  \n",
       "2   17:20:50      2  \n",
       "3   12:14:34      6  \n",
       "4   21:23:00     56  \n",
       "5   13:01:02     95  \n",
       "6   03:04:13     10  \n",
       "7   20:08:02     86  \n",
       "8   10:07:45     11  \n",
       "9   01:51:23     50  \n",
       "10  22:28:06     11  \n",
       "11  20:26:37     65  \n",
       "12  16:57:33     80  \n",
       "13  15:49:11     38  \n",
       "14  06:28:47     46  "
      ]
     },
     "execution_count": 2,
     "metadata": {},
     "output_type": "execute_result"
    }
   ],
   "source": [
    "tam=15\n",
    "def crearLista(x):\n",
    "    listaTipos=['transferencia','deposito','extraccion']\n",
    "    listaReturn=[]\n",
    "    for i in range(x):\n",
    "        listaReturn.append(listaTipos[random.randint(0,2)])\n",
    "    return listaReturn\n",
    "\n",
    "def random_date(start, end, tipo):\n",
    "    \"\"\"Generate a random datetime between `start` and `end`\"\"\"\n",
    "    x = start + datetime.timedelta(seconds=random.randint(0, int((end - start).total_seconds())),\n",
    "    ) \n",
    "    return x.date() if tipo=='fecha' else x.time()\n",
    "\n",
    "l=[]\n",
    "for x in range (tam): \n",
    "    l.append(random_date(pd.to_datetime('1/1/2008'),pd.to_datetime('1/1/2009'),'fecha'))\n",
    "h=[]\n",
    "for x in range (tam): \n",
    "    h.append(random_date(pd.to_datetime('1/1/2008'),pd.to_datetime('1/1/2009'),'hora'))\n",
    "    \n",
    "\n",
    "alumn = {'NROTRANSACCION':random.sample(range(100), tam),\n",
    "         'TIPO':crearLista(tam),\n",
    "         'CUENTAORIGEN':np.random.randint(1000,1005,size=tam),\n",
    "         'CUENTADESTINO':np.random.randint(1000,1005,size=tam),\n",
    "        'FECHA':l,\n",
    "         'HORA':h,\n",
    "        'MONTO':np.random.randint(0,100,size=tam)}\n",
    "df = pd.DataFrame(alumn)\n",
    "df.head(15)"
   ]
  },
  {
   "cell_type": "markdown",
   "metadata": {},
   "source": [
    "A. Validar que todas las transacciones cuenten con un tipo de transacción"
   ]
  },
  {
   "cell_type": "code",
   "execution_count": 3,
   "metadata": {},
   "outputs": [
    {
     "data": {
      "text/plain": [
       "False"
      ]
     },
     "execution_count": 3,
     "metadata": {},
     "output_type": "execute_result"
    }
   ],
   "source": [
    "df.TIPO.hasnans"
   ]
  },
  {
   "cell_type": "markdown",
   "metadata": {},
   "source": [
    "B. Validar que para las transacciones del tipo transferencia, exista siempre tanto cuenta origen como cuenta destino."
   ]
  },
  {
   "cell_type": "code",
   "execution_count": 10,
   "metadata": {},
   "outputs": [
    {
     "name": "stdout",
     "output_type": "stream",
     "text": [
      "no hay transferencias\n"
     ]
    }
   ],
   "source": [
    "if 'transferencia' in df.TIPO.values:\n",
    "    grouped =  df.groupby('TIPO').get_group('transferencia') \n",
    "    True in (grouped['CUENTAORIGEN'].isnull() | grouped['CUENTADESTINO'].isnull()).values\n",
    "else: print('no hay transferencias')"
   ]
  },
  {
   "cell_type": "markdown",
   "metadata": {},
   "source": [
    "C. Verificar que todas las transacciones del tipo transferencia, depósito y extracción cuenten con montos distintos de cero."
   ]
  },
  {
   "cell_type": "code",
   "execution_count": 11,
   "metadata": {},
   "outputs": [
    {
     "data": {
      "text/plain": [
       "False"
      ]
     },
     "execution_count": 11,
     "metadata": {},
     "output_type": "execute_result"
    }
   ],
   "source": [
    "False in (df[(df['TIPO']=='transferencia') | (df['TIPO']=='deposito') | (df['TIPO']=='extraccion')].MONTO != 0).values"
   ]
  },
  {
   "cell_type": "markdown",
   "metadata": {},
   "source": [
    "D. Indicar cuáles fueron las 10 transacciones de mayor monto."
   ]
  },
  {
   "cell_type": "code",
   "execution_count": 12,
   "metadata": {},
   "outputs": [
    {
     "data": {
      "text/plain": [
       "array(['extraccion', 'extraccion', 'deposito', 'extraccion', 'extraccion',\n",
       "       'deposito', 'deposito', 'extraccion', 'deposito', 'deposito'],\n",
       "      dtype=object)"
      ]
     },
     "execution_count": 12,
     "metadata": {},
     "output_type": "execute_result"
    }
   ],
   "source": [
    "df.sort_values(by='MONTO',ascending=False).head(10).TIPO.values"
   ]
  },
  {
   "cell_type": "markdown",
   "metadata": {},
   "source": [
    "E. Indicar cuál es el tipo de transacción que registra mayor monto promedio."
   ]
  },
  {
   "cell_type": "code",
   "execution_count": 60,
   "metadata": {},
   "outputs": [],
   "source": [
    "transaccionMayorMonto=df.groupby('TIPO').agg({'MONTO':'mean'}).reset_index().TIPO.values[0]"
   ]
  },
  {
   "cell_type": "markdown",
   "metadata": {},
   "source": [
    "F. Indicar cuáles son las 5 cuentas con mayor cantidad de transacciones."
   ]
  },
  {
   "cell_type": "code",
   "execution_count": 14,
   "metadata": {},
   "outputs": [],
   "source": [
    "cuentas = df['CUENTAORIGEN'].append(df['CUENTADESTINO'])\n",
    "dfcuentas = pd.DataFrame()\n",
    "dfcuentas['cuentas']=cuentas\n",
    "dfcuentas['cant']=1"
   ]
  },
  {
   "cell_type": "code",
   "execution_count": 15,
   "metadata": {},
   "outputs": [
    {
     "data": {
      "text/plain": [
       "array([1001, 1002, 1004, 1003, 1000], dtype=int64)"
      ]
     },
     "execution_count": 15,
     "metadata": {},
     "output_type": "execute_result"
    }
   ],
   "source": [
    "dfcuentas.groupby('cuentas').agg({'cant':'sum'}).sort_values(by='cant',ascending=False).reset_index().cuentas.values[0:5]"
   ]
  },
  {
   "cell_type": "markdown",
   "metadata": {},
   "source": [
    "G. Indicar cuáles son las 5 cuentas con mayor monto involucrado."
   ]
  },
  {
   "cell_type": "code",
   "execution_count": 34,
   "metadata": {},
   "outputs": [],
   "source": [
    "dcuentas = pd.concat([df['CUENTAORIGEN'].append(df['CUENTADESTINO']),df['MONTO'].append(df['MONTO'])],axis=1)"
   ]
  },
  {
   "cell_type": "code",
   "execution_count": 44,
   "metadata": {},
   "outputs": [
    {
     "ename": "AttributeError",
     "evalue": "'NoneType' object has no attribute 'head'",
     "output_type": "error",
     "traceback": [
      "\u001b[1;31m---------------------------------------------------------------------------\u001b[0m",
      "\u001b[1;31mAttributeError\u001b[0m                            Traceback (most recent call last)",
      "\u001b[1;32m<ipython-input-44-aae91d1284c3>\u001b[0m in \u001b[0;36m<module>\u001b[1;34m\u001b[0m\n\u001b[1;32m----> 1\u001b[1;33m \u001b[0mdcuentas\u001b[0m\u001b[1;33m.\u001b[0m\u001b[0mrename\u001b[0m\u001b[1;33m(\u001b[0m\u001b[0mindex\u001b[0m\u001b[1;33m=\u001b[0m\u001b[0mstr\u001b[0m\u001b[1;33m,\u001b[0m\u001b[0mcolumns\u001b[0m\u001b[1;33m=\u001b[0m\u001b[1;33m{\u001b[0m\u001b[1;36m0\u001b[0m\u001b[1;33m:\u001b[0m\u001b[1;34m\"CUENTAS\"\u001b[0m\u001b[1;33m}\u001b[0m\u001b[1;33m,\u001b[0m\u001b[0minplace\u001b[0m\u001b[1;33m=\u001b[0m\u001b[1;32mTrue\u001b[0m\u001b[1;33m)\u001b[0m\u001b[1;33m.\u001b[0m\u001b[0mhead\u001b[0m\u001b[1;33m(\u001b[0m\u001b[1;33m)\u001b[0m\u001b[1;33m\u001b[0m\u001b[1;33m\u001b[0m\u001b[0m\n\u001b[0m",
      "\u001b[1;31mAttributeError\u001b[0m: 'NoneType' object has no attribute 'head'"
     ]
    }
   ],
   "source": [
    "dcuentas.rename(index=str,columns={0:\"CUENTAS\"},inplace=True).head()"
   ]
  },
  {
   "cell_type": "code",
   "execution_count": 56,
   "metadata": {},
   "outputs": [
    {
     "data": {
      "text/plain": [
       "0    1002\n",
       "1    1001\n",
       "2    1004\n",
       "3    1003\n",
       "4    1000\n",
       "Name: CUENTAS, dtype: int64"
      ]
     },
     "execution_count": 56,
     "metadata": {},
     "output_type": "execute_result"
    }
   ],
   "source": [
    "dcuentas.groupby('CUENTAS').agg({'MONTO':'sum'}).sort_values(by='MONTO',ascending=False).head(5).reset_index().CUENTAS"
   ]
  },
  {
   "cell_type": "markdown",
   "metadata": {},
   "source": [
    "H. Para el tipo de transacción con mayor cantidad de monto promedio, indicar cuales son las 5 cuentas con más transacciones."
   ]
  },
  {
   "cell_type": "code",
   "execution_count": 63,
   "metadata": {},
   "outputs": [],
   "source": [
    "groupedTipo=df.groupby('TIPO').get_group(transaccionMayorMonto)"
   ]
  },
  {
   "cell_type": "code",
   "execution_count": 71,
   "metadata": {},
   "outputs": [
    {
     "data": {
      "text/html": [
       "<div>\n",
       "<style scoped>\n",
       "    .dataframe tbody tr th:only-of-type {\n",
       "        vertical-align: middle;\n",
       "    }\n",
       "\n",
       "    .dataframe tbody tr th {\n",
       "        vertical-align: top;\n",
       "    }\n",
       "\n",
       "    .dataframe thead th {\n",
       "        text-align: right;\n",
       "    }\n",
       "</style>\n",
       "<table border=\"1\" class=\"dataframe\">\n",
       "  <thead>\n",
       "    <tr style=\"text-align: right;\">\n",
       "      <th></th>\n",
       "      <th>cuentas</th>\n",
       "      <th>cant</th>\n",
       "    </tr>\n",
       "  </thead>\n",
       "  <tbody>\n",
       "    <tr>\n",
       "      <th>1</th>\n",
       "      <td>1001</td>\n",
       "      <td>1</td>\n",
       "    </tr>\n",
       "    <tr>\n",
       "      <th>3</th>\n",
       "      <td>1001</td>\n",
       "      <td>1</td>\n",
       "    </tr>\n",
       "    <tr>\n",
       "      <th>4</th>\n",
       "      <td>1001</td>\n",
       "      <td>1</td>\n",
       "    </tr>\n",
       "    <tr>\n",
       "      <th>6</th>\n",
       "      <td>1001</td>\n",
       "      <td>1</td>\n",
       "    </tr>\n",
       "    <tr>\n",
       "      <th>7</th>\n",
       "      <td>1002</td>\n",
       "      <td>1</td>\n",
       "    </tr>\n",
       "    <tr>\n",
       "      <th>8</th>\n",
       "      <td>1003</td>\n",
       "      <td>1</td>\n",
       "    </tr>\n",
       "    <tr>\n",
       "      <th>10</th>\n",
       "      <td>1001</td>\n",
       "      <td>1</td>\n",
       "    </tr>\n",
       "    <tr>\n",
       "      <th>13</th>\n",
       "      <td>1002</td>\n",
       "      <td>1</td>\n",
       "    </tr>\n",
       "    <tr>\n",
       "      <th>14</th>\n",
       "      <td>1002</td>\n",
       "      <td>1</td>\n",
       "    </tr>\n",
       "    <tr>\n",
       "      <th>1</th>\n",
       "      <td>1000</td>\n",
       "      <td>1</td>\n",
       "    </tr>\n",
       "  </tbody>\n",
       "</table>\n",
       "</div>"
      ],
      "text/plain": [
       "    cuentas  cant\n",
       "1      1001     1\n",
       "3      1001     1\n",
       "4      1001     1\n",
       "6      1001     1\n",
       "7      1002     1\n",
       "8      1003     1\n",
       "10     1001     1\n",
       "13     1002     1\n",
       "14     1002     1\n",
       "1      1000     1"
      ]
     },
     "execution_count": 71,
     "metadata": {},
     "output_type": "execute_result"
    }
   ],
   "source": [
    "tipoTransac = groupedTipo['CUENTAORIGEN'].append(groupedTipo['CUENTADESTINO'])\n",
    "dfTran = pd.DataFrame()\n",
    "dfTran['cuentas']=tipoTransac\n",
    "dfTran['cant']=1\n",
    "dfTran.head()"
   ]
  },
  {
   "cell_type": "code",
   "execution_count": 76,
   "metadata": {},
   "outputs": [
    {
     "data": {
      "text/plain": [
       "array([1001, 1002, 1003, 1004, 1000], dtype=int64)"
      ]
     },
     "execution_count": 76,
     "metadata": {},
     "output_type": "execute_result"
    }
   ],
   "source": [
    "dfTran.groupby('cuentas').agg({'cant':'sum'}).sort_values(by='cant',ascending=False).head(5).reset_index().cuentas.values"
   ]
  },
  {
   "cell_type": "code",
   "execution_count": null,
   "metadata": {},
   "outputs": [],
   "source": []
  }
 ],
 "metadata": {
  "kernelspec": {
   "display_name": "Python 3",
   "language": "python",
   "name": "python3"
  },
  "language_info": {
   "codemirror_mode": {
    "name": "ipython",
    "version": 3
   },
   "file_extension": ".py",
   "mimetype": "text/x-python",
   "name": "python",
   "nbconvert_exporter": "python",
   "pygments_lexer": "ipython3",
   "version": "3.7.6"
  }
 },
 "nbformat": 4,
 "nbformat_minor": 4
}
