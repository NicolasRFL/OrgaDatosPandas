{
 "cells": [
  {
   "cell_type": "markdown",
   "metadata": {},
   "source": [
    "2- Se tiene un registro de transacciones bancarias, de la forma (nro de transacción, tipo de transacción, cuenta origen, cuenta destino, fecha, hora, monto). Se pide resolver en Pandas:\n",
    "    A. Validar que todas las transacciones cuenten con un tipo de transacción.\n",
    "    B. Validar que para las transacciones del tipo transferencia, exista siempre tanto cuenta origen como cuenta destino.\n",
    "    C. Verificar que todas las transacciones del tipo transferencia, depósito y extracción cuenten con montos distintos de cero.\n",
    "    D. Indicar cuáles fueron las 10 transacciones de mayor monto.\n",
    "    E. Indicar cuál es el tipo de transacción que registra mayor monto promedio.\n",
    "    F. Indicar cuáles son las 5 cuentas con mayor cantidad de transacciones.\n",
    "    G. Indicar cuáles son las 5 cuentas con mayor monto involucrado.\n",
    "    H. Para el tipo de transacción con mayor cantidad de monto promedio, indicar cuales son las 5 cuentas con más transacciones."
   ]
  },
  {
   "cell_type": "code",
   "execution_count": 1,
   "metadata": {},
   "outputs": [],
   "source": [
    "import pandas as pd\n",
    "import numpy as np\n",
    "import matplotlib.pyplot as plt\n",
    "import seaborn as sns\n",
    "import random\n",
    "import datetime"
   ]
  },
  {
   "cell_type": "code",
   "execution_count": 2,
   "metadata": {},
   "outputs": [
    {
     "data": {
      "text/html": [
       "<div>\n",
       "<style scoped>\n",
       "    .dataframe tbody tr th:only-of-type {\n",
       "        vertical-align: middle;\n",
       "    }\n",
       "\n",
       "    .dataframe tbody tr th {\n",
       "        vertical-align: top;\n",
       "    }\n",
       "\n",
       "    .dataframe thead th {\n",
       "        text-align: right;\n",
       "    }\n",
       "</style>\n",
       "<table border=\"1\" class=\"dataframe\">\n",
       "  <thead>\n",
       "    <tr style=\"text-align: right;\">\n",
       "      <th></th>\n",
       "      <th>NROTRANSACCION</th>\n",
       "      <th>TIPO</th>\n",
       "      <th>CUENTAORIGEN</th>\n",
       "      <th>CUENTADESTINO</th>\n",
       "      <th>FECHA</th>\n",
       "      <th>HORA</th>\n",
       "      <th>MONTO</th>\n",
       "    </tr>\n",
       "  </thead>\n",
       "  <tbody>\n",
       "    <tr>\n",
       "      <th>0</th>\n",
       "      <td>0</td>\n",
       "      <td>deposito</td>\n",
       "      <td>1031</td>\n",
       "      <td>1003</td>\n",
       "      <td>2008-01-16</td>\n",
       "      <td>02:42:51</td>\n",
       "      <td>9</td>\n",
       "    </tr>\n",
       "    <tr>\n",
       "      <th>1</th>\n",
       "      <td>1</td>\n",
       "      <td>deposito</td>\n",
       "      <td>1029</td>\n",
       "      <td>1060</td>\n",
       "      <td>2008-11-04</td>\n",
       "      <td>06:23:40</td>\n",
       "      <td>52</td>\n",
       "    </tr>\n",
       "    <tr>\n",
       "      <th>2</th>\n",
       "      <td>2</td>\n",
       "      <td>extraccion</td>\n",
       "      <td>1003</td>\n",
       "      <td>1090</td>\n",
       "      <td>2008-03-01</td>\n",
       "      <td>11:57:30</td>\n",
       "      <td>97</td>\n",
       "    </tr>\n",
       "    <tr>\n",
       "      <th>3</th>\n",
       "      <td>3</td>\n",
       "      <td>deposito</td>\n",
       "      <td>1031</td>\n",
       "      <td>1074</td>\n",
       "      <td>2008-11-19</td>\n",
       "      <td>02:48:07</td>\n",
       "      <td>3</td>\n",
       "    </tr>\n",
       "    <tr>\n",
       "      <th>4</th>\n",
       "      <td>4</td>\n",
       "      <td>transferencia</td>\n",
       "      <td>1095</td>\n",
       "      <td>1036</td>\n",
       "      <td>2008-10-15</td>\n",
       "      <td>10:00:10</td>\n",
       "      <td>3</td>\n",
       "    </tr>\n",
       "    <tr>\n",
       "      <th>5</th>\n",
       "      <td>5</td>\n",
       "      <td>transferencia</td>\n",
       "      <td>1036</td>\n",
       "      <td>1073</td>\n",
       "      <td>2008-04-02</td>\n",
       "      <td>04:22:40</td>\n",
       "      <td>63</td>\n",
       "    </tr>\n",
       "    <tr>\n",
       "      <th>6</th>\n",
       "      <td>6</td>\n",
       "      <td>transferencia</td>\n",
       "      <td>1077</td>\n",
       "      <td>1096</td>\n",
       "      <td>2008-12-06</td>\n",
       "      <td>21:50:07</td>\n",
       "      <td>95</td>\n",
       "    </tr>\n",
       "    <tr>\n",
       "      <th>7</th>\n",
       "      <td>7</td>\n",
       "      <td>transferencia</td>\n",
       "      <td>1001</td>\n",
       "      <td>1092</td>\n",
       "      <td>2008-04-07</td>\n",
       "      <td>00:41:34</td>\n",
       "      <td>3</td>\n",
       "    </tr>\n",
       "    <tr>\n",
       "      <th>8</th>\n",
       "      <td>8</td>\n",
       "      <td>extraccion</td>\n",
       "      <td>1065</td>\n",
       "      <td>1079</td>\n",
       "      <td>2008-04-05</td>\n",
       "      <td>10:32:37</td>\n",
       "      <td>15</td>\n",
       "    </tr>\n",
       "    <tr>\n",
       "      <th>9</th>\n",
       "      <td>9</td>\n",
       "      <td>deposito</td>\n",
       "      <td>1014</td>\n",
       "      <td>1085</td>\n",
       "      <td>2008-10-24</td>\n",
       "      <td>14:36:04</td>\n",
       "      <td>38</td>\n",
       "    </tr>\n",
       "    <tr>\n",
       "      <th>10</th>\n",
       "      <td>10</td>\n",
       "      <td>transferencia</td>\n",
       "      <td>1085</td>\n",
       "      <td>1072</td>\n",
       "      <td>2008-06-09</td>\n",
       "      <td>22:57:43</td>\n",
       "      <td>6</td>\n",
       "    </tr>\n",
       "    <tr>\n",
       "      <th>11</th>\n",
       "      <td>11</td>\n",
       "      <td>transferencia</td>\n",
       "      <td>1043</td>\n",
       "      <td>1047</td>\n",
       "      <td>2008-01-15</td>\n",
       "      <td>19:12:54</td>\n",
       "      <td>57</td>\n",
       "    </tr>\n",
       "    <tr>\n",
       "      <th>12</th>\n",
       "      <td>12</td>\n",
       "      <td>extraccion</td>\n",
       "      <td>1005</td>\n",
       "      <td>1014</td>\n",
       "      <td>2008-01-31</td>\n",
       "      <td>02:37:46</td>\n",
       "      <td>86</td>\n",
       "    </tr>\n",
       "    <tr>\n",
       "      <th>13</th>\n",
       "      <td>13</td>\n",
       "      <td>extraccion</td>\n",
       "      <td>1083</td>\n",
       "      <td>1058</td>\n",
       "      <td>2008-01-12</td>\n",
       "      <td>16:42:47</td>\n",
       "      <td>68</td>\n",
       "    </tr>\n",
       "    <tr>\n",
       "      <th>14</th>\n",
       "      <td>14</td>\n",
       "      <td>deposito</td>\n",
       "      <td>1074</td>\n",
       "      <td>1032</td>\n",
       "      <td>2008-12-24</td>\n",
       "      <td>05:33:45</td>\n",
       "      <td>51</td>\n",
       "    </tr>\n",
       "  </tbody>\n",
       "</table>\n",
       "</div>"
      ],
      "text/plain": [
       "    NROTRANSACCION           TIPO  CUENTAORIGEN  CUENTADESTINO       FECHA  \\\n",
       "0                0       deposito          1031           1003  2008-01-16   \n",
       "1                1       deposito          1029           1060  2008-11-04   \n",
       "2                2     extraccion          1003           1090  2008-03-01   \n",
       "3                3       deposito          1031           1074  2008-11-19   \n",
       "4                4  transferencia          1095           1036  2008-10-15   \n",
       "5                5  transferencia          1036           1073  2008-04-02   \n",
       "6                6  transferencia          1077           1096  2008-12-06   \n",
       "7                7  transferencia          1001           1092  2008-04-07   \n",
       "8                8     extraccion          1065           1079  2008-04-05   \n",
       "9                9       deposito          1014           1085  2008-10-24   \n",
       "10              10  transferencia          1085           1072  2008-06-09   \n",
       "11              11  transferencia          1043           1047  2008-01-15   \n",
       "12              12     extraccion          1005           1014  2008-01-31   \n",
       "13              13     extraccion          1083           1058  2008-01-12   \n",
       "14              14       deposito          1074           1032  2008-12-24   \n",
       "\n",
       "        HORA  MONTO  \n",
       "0   02:42:51      9  \n",
       "1   06:23:40     52  \n",
       "2   11:57:30     97  \n",
       "3   02:48:07      3  \n",
       "4   10:00:10      3  \n",
       "5   04:22:40     63  \n",
       "6   21:50:07     95  \n",
       "7   00:41:34      3  \n",
       "8   10:32:37     15  \n",
       "9   14:36:04     38  \n",
       "10  22:57:43      6  \n",
       "11  19:12:54     57  \n",
       "12  02:37:46     86  \n",
       "13  16:42:47     68  \n",
       "14  05:33:45     51  "
      ]
     },
     "execution_count": 2,
     "metadata": {},
     "output_type": "execute_result"
    }
   ],
   "source": [
    "tam=1500\n",
    "def crearLista(x):\n",
    "    listaTipos=['transferencia','deposito','extraccion']\n",
    "    listaReturn=[]\n",
    "    for i in range(x):\n",
    "        listaReturn.append(listaTipos[random.randint(0,2)])\n",
    "    return listaReturn\n",
    "\n",
    "def random_date(start, end, tipo):\n",
    "    \"\"\"Generate a random datetime between `start` and `end`\"\"\"\n",
    "    x = start + datetime.timedelta(seconds=random.randint(0, int((end - start).total_seconds())),\n",
    "    ) \n",
    "    return x.date() if tipo=='fecha' else x.time()\n",
    "\n",
    "l=[]\n",
    "for x in range (tam): \n",
    "    l.append(random_date(pd.to_datetime('1/1/2008'),pd.to_datetime('1/1/2009'),'fecha'))\n",
    "h=[]\n",
    "for x in range (tam): \n",
    "    h.append(random_date(pd.to_datetime('1/1/2008'),pd.to_datetime('1/1/2009'),'hora'))\n",
    "    \n",
    "\n",
    "alumn = {'NROTRANSACCION':list(range(tam)),\n",
    "         'TIPO':crearLista(tam),\n",
    "         'CUENTAORIGEN':np.random.randint(1000,1100,size=tam),\n",
    "         'CUENTADESTINO':np.random.randint(1000,1100,size=tam),\n",
    "        'FECHA':l,\n",
    "         'HORA':h,\n",
    "        'MONTO':np.random.randint(1,100,size=tam)}\n",
    "df = pd.DataFrame(alumn)\n",
    "df.head(15)"
   ]
  },
  {
   "cell_type": "markdown",
   "metadata": {},
   "source": [
    "A. Validar que todas las transacciones cuenten con un tipo de transacción"
   ]
  },
  {
   "cell_type": "code",
   "execution_count": 3,
   "metadata": {},
   "outputs": [
    {
     "name": "stdout",
     "output_type": "stream",
     "text": [
      "Validado\n"
     ]
    }
   ],
   "source": [
    "if df.TIPO.hasnans:\n",
    "    print ('Hay una transaccion sin nada')\n",
    "else:\n",
    "    print ('Validado')"
   ]
  },
  {
   "cell_type": "markdown",
   "metadata": {},
   "source": [
    "B. Validar que para las transacciones del tipo transferencia, exista siempre tanto cuenta origen como cuenta destino."
   ]
  },
  {
   "cell_type": "code",
   "execution_count": 4,
   "metadata": {},
   "outputs": [
    {
     "name": "stdout",
     "output_type": "stream",
     "text": [
      "es valido\n"
     ]
    }
   ],
   "source": [
    "if 'transferencia' in df.TIPO.values:\n",
    "    grouped =  df.groupby('TIPO').get_group('transferencia') \n",
    "    if True in (grouped['CUENTAORIGEN'].isnull() | grouped['CUENTADESTINO'].isnull()).values:\n",
    "        print('no es valido')\n",
    "    else:\n",
    "        print('es valido')\n",
    "else: print('no hay transferencias')"
   ]
  },
  {
   "cell_type": "markdown",
   "metadata": {},
   "source": [
    "C. Verificar que todas las transacciones del tipo transferencia, depósito y extracción cuenten con montos distintos de cero."
   ]
  },
  {
   "cell_type": "code",
   "execution_count": 5,
   "metadata": {},
   "outputs": [
    {
     "name": "stdout",
     "output_type": "stream",
     "text": [
      "Verifica\n"
     ]
    }
   ],
   "source": [
    "if False in (df[(df['TIPO']=='transferencia') | (df['TIPO']=='deposito') | (df['TIPO']=='extraccion')].MONTO != 0).values:\n",
    "    print ('hay una transferencia, depósito o extracción con monto distinto de cero')\n",
    "else:\n",
    "    print('Verifica')"
   ]
  },
  {
   "cell_type": "markdown",
   "metadata": {},
   "source": [
    "D. Indicar cuáles fueron las 10 transacciones de mayor monto."
   ]
  },
  {
   "cell_type": "code",
   "execution_count": 6,
   "metadata": {},
   "outputs": [
    {
     "name": "stdout",
     "output_type": "stream",
     "text": [
      "Las 10 transacciones de mayor monto son: 179, 1232, 1397, 298, 1128, 686, 663, 366, 1480, 1137\n"
     ]
    }
   ],
   "source": [
    "resD = df.sort_values(by='MONTO',ascending=False).head(10).NROTRANSACCION.values\n",
    "print ('Las 10 transacciones de mayor monto son: %s' %', '.join(map(str, resD)))"
   ]
  },
  {
   "cell_type": "markdown",
   "metadata": {},
   "source": [
    "E. Indicar cuál es el tipo de transacción que registra mayor monto promedio."
   ]
  },
  {
   "cell_type": "code",
   "execution_count": 7,
   "metadata": {
    "scrolled": true
   },
   "outputs": [
    {
     "name": "stdout",
     "output_type": "stream",
     "text": [
      "La transacción de mayor monto es: extraccion\n"
     ]
    }
   ],
   "source": [
    "transaccionMayorMonto=df.groupby('TIPO').agg({'MONTO':'mean'}).reset_index().sort_values(by='MONTO',ascending=False).TIPO.values[0]\n",
    "print ('La transacción de mayor monto es: %s'%transaccionMayorMonto)"
   ]
  },
  {
   "cell_type": "markdown",
   "metadata": {},
   "source": [
    "F. Indicar cuáles son las 5 cuentas con mayor cantidad de transacciones."
   ]
  },
  {
   "cell_type": "code",
   "execution_count": 8,
   "metadata": {},
   "outputs": [],
   "source": [
    "cuentas = df['CUENTAORIGEN'].append(df['CUENTADESTINO'])\n",
    "dfcuentas = pd.DataFrame()\n",
    "dfcuentas['cuentas']=cuentas\n",
    "dfcuentas['cant']=1"
   ]
  },
  {
   "cell_type": "code",
   "execution_count": 9,
   "metadata": {},
   "outputs": [],
   "source": [
    "resF=dfcuentas.groupby('cuentas').agg({'cant':'sum'}).sort_values(by='cant',ascending=False).reset_index().cuentas.values[0:5]"
   ]
  },
  {
   "cell_type": "code",
   "execution_count": 10,
   "metadata": {},
   "outputs": [
    {
     "name": "stdout",
     "output_type": "stream",
     "text": [
      "Las 5 cuentas con mas transacciones son: 1096, 1089, 1074, 1003, 1053\n"
     ]
    }
   ],
   "source": [
    "print ('Las 5 cuentas con mas transacciones son: %s' %', '.join(map(str, resF)))"
   ]
  },
  {
   "cell_type": "markdown",
   "metadata": {},
   "source": [
    "G. Indicar cuáles son las 5 cuentas con mayor monto involucrado."
   ]
  },
  {
   "cell_type": "code",
   "execution_count": 11,
   "metadata": {},
   "outputs": [],
   "source": [
    "dcuentas = pd.concat([df['CUENTAORIGEN'].append(df['CUENTADESTINO']),df['MONTO'].append(df['MONTO'])],axis=1)"
   ]
  },
  {
   "cell_type": "code",
   "execution_count": 12,
   "metadata": {},
   "outputs": [
    {
     "data": {
      "text/html": [
       "<div>\n",
       "<style scoped>\n",
       "    .dataframe tbody tr th:only-of-type {\n",
       "        vertical-align: middle;\n",
       "    }\n",
       "\n",
       "    .dataframe tbody tr th {\n",
       "        vertical-align: top;\n",
       "    }\n",
       "\n",
       "    .dataframe thead th {\n",
       "        text-align: right;\n",
       "    }\n",
       "</style>\n",
       "<table border=\"1\" class=\"dataframe\">\n",
       "  <thead>\n",
       "    <tr style=\"text-align: right;\">\n",
       "      <th></th>\n",
       "      <th>CUENTAS</th>\n",
       "      <th>MONTO</th>\n",
       "    </tr>\n",
       "  </thead>\n",
       "  <tbody>\n",
       "    <tr>\n",
       "      <th>0</th>\n",
       "      <td>1031</td>\n",
       "      <td>9</td>\n",
       "    </tr>\n",
       "    <tr>\n",
       "      <th>1</th>\n",
       "      <td>1029</td>\n",
       "      <td>52</td>\n",
       "    </tr>\n",
       "    <tr>\n",
       "      <th>2</th>\n",
       "      <td>1003</td>\n",
       "      <td>97</td>\n",
       "    </tr>\n",
       "    <tr>\n",
       "      <th>3</th>\n",
       "      <td>1031</td>\n",
       "      <td>3</td>\n",
       "    </tr>\n",
       "    <tr>\n",
       "      <th>4</th>\n",
       "      <td>1095</td>\n",
       "      <td>3</td>\n",
       "    </tr>\n",
       "  </tbody>\n",
       "</table>\n",
       "</div>"
      ],
      "text/plain": [
       "   CUENTAS  MONTO\n",
       "0     1031      9\n",
       "1     1029     52\n",
       "2     1003     97\n",
       "3     1031      3\n",
       "4     1095      3"
      ]
     },
     "execution_count": 12,
     "metadata": {},
     "output_type": "execute_result"
    }
   ],
   "source": [
    "dcuentas.rename(index=str,columns={0:\"CUENTAS\"},inplace=True)\n",
    "dcuentas.head()"
   ]
  },
  {
   "cell_type": "code",
   "execution_count": 13,
   "metadata": {
    "scrolled": true
   },
   "outputs": [],
   "source": [
    "cMM = dcuentas.groupby('CUENTAS').agg({'MONTO':'sum'}).sort_values(by='MONTO',ascending=False).head(5).reset_index().CUENTAS.values"
   ]
  },
  {
   "cell_type": "code",
   "execution_count": 14,
   "metadata": {},
   "outputs": [
    {
     "name": "stdout",
     "output_type": "stream",
     "text": [
      "Las 5 cuentas de mayor monto involucrado son las cuentas número: 1091,1053,1003,1096,1074\n"
     ]
    }
   ],
   "source": [
    "print ('Las 5 cuentas de mayor monto involucrado son las cuentas número: %s' %','.join(map(str, cMM)))"
   ]
  },
  {
   "cell_type": "markdown",
   "metadata": {},
   "source": [
    "H. Para el tipo de transacción con mayor cantidad de monto promedio, indicar cuales son las 5 cuentas con más transacciones."
   ]
  },
  {
   "cell_type": "code",
   "execution_count": 15,
   "metadata": {},
   "outputs": [
    {
     "data": {
      "text/html": [
       "<div>\n",
       "<style scoped>\n",
       "    .dataframe tbody tr th:only-of-type {\n",
       "        vertical-align: middle;\n",
       "    }\n",
       "\n",
       "    .dataframe tbody tr th {\n",
       "        vertical-align: top;\n",
       "    }\n",
       "\n",
       "    .dataframe thead th {\n",
       "        text-align: right;\n",
       "    }\n",
       "</style>\n",
       "<table border=\"1\" class=\"dataframe\">\n",
       "  <thead>\n",
       "    <tr style=\"text-align: right;\">\n",
       "      <th></th>\n",
       "      <th>NROTRANSACCION</th>\n",
       "      <th>TIPO</th>\n",
       "      <th>CUENTAORIGEN</th>\n",
       "      <th>CUENTADESTINO</th>\n",
       "      <th>FECHA</th>\n",
       "      <th>HORA</th>\n",
       "      <th>MONTO</th>\n",
       "    </tr>\n",
       "  </thead>\n",
       "  <tbody>\n",
       "    <tr>\n",
       "      <th>2</th>\n",
       "      <td>2</td>\n",
       "      <td>extraccion</td>\n",
       "      <td>1003</td>\n",
       "      <td>1090</td>\n",
       "      <td>2008-03-01</td>\n",
       "      <td>11:57:30</td>\n",
       "      <td>97</td>\n",
       "    </tr>\n",
       "    <tr>\n",
       "      <th>8</th>\n",
       "      <td>8</td>\n",
       "      <td>extraccion</td>\n",
       "      <td>1065</td>\n",
       "      <td>1079</td>\n",
       "      <td>2008-04-05</td>\n",
       "      <td>10:32:37</td>\n",
       "      <td>15</td>\n",
       "    </tr>\n",
       "    <tr>\n",
       "      <th>12</th>\n",
       "      <td>12</td>\n",
       "      <td>extraccion</td>\n",
       "      <td>1005</td>\n",
       "      <td>1014</td>\n",
       "      <td>2008-01-31</td>\n",
       "      <td>02:37:46</td>\n",
       "      <td>86</td>\n",
       "    </tr>\n",
       "    <tr>\n",
       "      <th>13</th>\n",
       "      <td>13</td>\n",
       "      <td>extraccion</td>\n",
       "      <td>1083</td>\n",
       "      <td>1058</td>\n",
       "      <td>2008-01-12</td>\n",
       "      <td>16:42:47</td>\n",
       "      <td>68</td>\n",
       "    </tr>\n",
       "    <tr>\n",
       "      <th>16</th>\n",
       "      <td>16</td>\n",
       "      <td>extraccion</td>\n",
       "      <td>1089</td>\n",
       "      <td>1074</td>\n",
       "      <td>2008-10-11</td>\n",
       "      <td>04:29:42</td>\n",
       "      <td>66</td>\n",
       "    </tr>\n",
       "  </tbody>\n",
       "</table>\n",
       "</div>"
      ],
      "text/plain": [
       "    NROTRANSACCION        TIPO  CUENTAORIGEN  CUENTADESTINO       FECHA  \\\n",
       "2                2  extraccion          1003           1090  2008-03-01   \n",
       "8                8  extraccion          1065           1079  2008-04-05   \n",
       "12              12  extraccion          1005           1014  2008-01-31   \n",
       "13              13  extraccion          1083           1058  2008-01-12   \n",
       "16              16  extraccion          1089           1074  2008-10-11   \n",
       "\n",
       "        HORA  MONTO  \n",
       "2   11:57:30     97  \n",
       "8   10:32:37     15  \n",
       "12  02:37:46     86  \n",
       "13  16:42:47     68  \n",
       "16  04:29:42     66  "
      ]
     },
     "execution_count": 15,
     "metadata": {},
     "output_type": "execute_result"
    }
   ],
   "source": [
    "groupedTipo=df.groupby('TIPO').get_group(transaccionMayorMonto)\n",
    "groupedTipo.head()"
   ]
  },
  {
   "cell_type": "code",
   "execution_count": 16,
   "metadata": {},
   "outputs": [
    {
     "data": {
      "text/html": [
       "<div>\n",
       "<style scoped>\n",
       "    .dataframe tbody tr th:only-of-type {\n",
       "        vertical-align: middle;\n",
       "    }\n",
       "\n",
       "    .dataframe tbody tr th {\n",
       "        vertical-align: top;\n",
       "    }\n",
       "\n",
       "    .dataframe thead th {\n",
       "        text-align: right;\n",
       "    }\n",
       "</style>\n",
       "<table border=\"1\" class=\"dataframe\">\n",
       "  <thead>\n",
       "    <tr style=\"text-align: right;\">\n",
       "      <th></th>\n",
       "      <th>cuentas</th>\n",
       "      <th>cant</th>\n",
       "    </tr>\n",
       "  </thead>\n",
       "  <tbody>\n",
       "    <tr>\n",
       "      <th>2</th>\n",
       "      <td>1003</td>\n",
       "      <td>1</td>\n",
       "    </tr>\n",
       "    <tr>\n",
       "      <th>8</th>\n",
       "      <td>1065</td>\n",
       "      <td>1</td>\n",
       "    </tr>\n",
       "    <tr>\n",
       "      <th>12</th>\n",
       "      <td>1005</td>\n",
       "      <td>1</td>\n",
       "    </tr>\n",
       "    <tr>\n",
       "      <th>13</th>\n",
       "      <td>1083</td>\n",
       "      <td>1</td>\n",
       "    </tr>\n",
       "    <tr>\n",
       "      <th>16</th>\n",
       "      <td>1089</td>\n",
       "      <td>1</td>\n",
       "    </tr>\n",
       "  </tbody>\n",
       "</table>\n",
       "</div>"
      ],
      "text/plain": [
       "    cuentas  cant\n",
       "2      1003     1\n",
       "8      1065     1\n",
       "12     1005     1\n",
       "13     1083     1\n",
       "16     1089     1"
      ]
     },
     "execution_count": 16,
     "metadata": {},
     "output_type": "execute_result"
    }
   ],
   "source": [
    "tipoTransac = groupedTipo['CUENTAORIGEN'].append(groupedTipo['CUENTADESTINO'])\n",
    "dfTran = pd.DataFrame()\n",
    "dfTran['cuentas']=tipoTransac\n",
    "dfTran['cant']=1\n",
    "dfTran.head()"
   ]
  },
  {
   "cell_type": "code",
   "execution_count": 17,
   "metadata": {},
   "outputs": [],
   "source": [
    "resH=dfTran.groupby('cuentas').agg({'cant':'sum'}).sort_values(by='cant',ascending=False).head(5).reset_index().cuentas.values"
   ]
  },
  {
   "cell_type": "code",
   "execution_count": 18,
   "metadata": {},
   "outputs": [
    {
     "name": "stdout",
     "output_type": "stream",
     "text": [
      "Las 5 cuentas con mas transacciones para el tipo de transaccion con mayor cantidad de monto promedio son: 1096, 1089, 1025, 1091, 1077\n"
     ]
    }
   ],
   "source": [
    "print ('Las 5 cuentas con mas transacciones para el tipo de transaccion con mayor cantidad de monto promedio son: %s' %', '.join(map(str, resH)))"
   ]
  },
  {
   "cell_type": "code",
   "execution_count": null,
   "metadata": {},
   "outputs": [],
   "source": []
  }
 ],
 "metadata": {
  "kernelspec": {
   "display_name": "Python 3",
   "language": "python",
   "name": "python3"
  },
  "language_info": {
   "codemirror_mode": {
    "name": "ipython",
    "version": 3
   },
   "file_extension": ".py",
   "mimetype": "text/x-python",
   "name": "python",
   "nbconvert_exporter": "python",
   "pygments_lexer": "ipython3",
   "version": "3.7.6"
  }
 },
 "nbformat": 4,
 "nbformat_minor": 4
}
