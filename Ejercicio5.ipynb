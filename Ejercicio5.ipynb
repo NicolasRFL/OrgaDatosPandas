{
 "cells": [
  {
   "cell_type": "markdown",
   "metadata": {},
   "source": [
    "5- La Agencia Nacional de Estadísticas de Buenos Aires recolecta información de nacimientos cuando los padres registran a sus hijos en el registro civil a partir de una encuesta. Esa información se encuentra disponible para su análisis en un csv con el siguiente formato (dia_nacimiento, mes_nacimiento, anio_nacimiento, peso_al_nacer, longitud_al_nacer, id_hospital, tipo_parto), donde el tipo de parto 1 es natural y 2 es cesárea. \n",
    "Por otro lado la agencia cuenta con información histórica de los hospitales en otro csv con siguiente formato (id_hospital, dirección, promedio_nacimientos_mensual). Se pide usar Pandas para: \n",
    "    A. Calcular la cantidad de nacimientos para cada uno de los hospitales para el mes de Octubre de 2017 e indicar aquellos hospitales que superan el promedio de nacimientos mensuales. \n",
    "    B. Comparando el mes de Octubre de 2017 indicar programáticamente si se incremento el % de cesáreas con respecto a ese mes del año 2016.  "
   ]
  },
  {
   "cell_type": "code",
   "execution_count": 1,
   "metadata": {},
   "outputs": [],
   "source": [
    "import pandas as pd\n",
    "import numpy as np\n",
    "import matplotlib.pyplot as plt\n",
    "import seaborn as sns\n",
    "import random\n",
    "import datetime"
   ]
  },
  {
   "cell_type": "code",
   "execution_count": 2,
   "metadata": {},
   "outputs": [
    {
     "data": {
      "text/html": [
       "<div>\n",
       "<style scoped>\n",
       "    .dataframe tbody tr th:only-of-type {\n",
       "        vertical-align: middle;\n",
       "    }\n",
       "\n",
       "    .dataframe tbody tr th {\n",
       "        vertical-align: top;\n",
       "    }\n",
       "\n",
       "    .dataframe thead th {\n",
       "        text-align: right;\n",
       "    }\n",
       "</style>\n",
       "<table border=\"1\" class=\"dataframe\">\n",
       "  <thead>\n",
       "    <tr style=\"text-align: right;\">\n",
       "      <th></th>\n",
       "      <th>dia_nacimiento</th>\n",
       "      <th>mes_nacimiento</th>\n",
       "      <th>anio_nacimiento</th>\n",
       "      <th>peso_al_nacer</th>\n",
       "      <th>longitud_al_nacer</th>\n",
       "      <th>id_hospital</th>\n",
       "      <th>tipo_parto</th>\n",
       "    </tr>\n",
       "  </thead>\n",
       "  <tbody>\n",
       "    <tr>\n",
       "      <th>0</th>\n",
       "      <td>1</td>\n",
       "      <td>10</td>\n",
       "      <td>2017</td>\n",
       "      <td>0.870977</td>\n",
       "      <td>42</td>\n",
       "      <td>107</td>\n",
       "      <td>0</td>\n",
       "    </tr>\n",
       "    <tr>\n",
       "      <th>1</th>\n",
       "      <td>10</td>\n",
       "      <td>2</td>\n",
       "      <td>2017</td>\n",
       "      <td>7.778462</td>\n",
       "      <td>32</td>\n",
       "      <td>127</td>\n",
       "      <td>1</td>\n",
       "    </tr>\n",
       "    <tr>\n",
       "      <th>2</th>\n",
       "      <td>9</td>\n",
       "      <td>12</td>\n",
       "      <td>2016</td>\n",
       "      <td>0.571601</td>\n",
       "      <td>40</td>\n",
       "      <td>131</td>\n",
       "      <td>1</td>\n",
       "    </tr>\n",
       "    <tr>\n",
       "      <th>3</th>\n",
       "      <td>1</td>\n",
       "      <td>5</td>\n",
       "      <td>2017</td>\n",
       "      <td>7.808369</td>\n",
       "      <td>30</td>\n",
       "      <td>123</td>\n",
       "      <td>0</td>\n",
       "    </tr>\n",
       "    <tr>\n",
       "      <th>4</th>\n",
       "      <td>9</td>\n",
       "      <td>12</td>\n",
       "      <td>2017</td>\n",
       "      <td>3.558205</td>\n",
       "      <td>39</td>\n",
       "      <td>147</td>\n",
       "      <td>0</td>\n",
       "    </tr>\n",
       "  </tbody>\n",
       "</table>\n",
       "</div>"
      ],
      "text/plain": [
       "   dia_nacimiento  mes_nacimiento  anio_nacimiento  peso_al_nacer  \\\n",
       "0               1              10             2017       0.870977   \n",
       "1              10               2             2017       7.778462   \n",
       "2               9              12             2016       0.571601   \n",
       "3               1               5             2017       7.808369   \n",
       "4               9              12             2017       3.558205   \n",
       "\n",
       "   longitud_al_nacer  id_hospital  tipo_parto  \n",
       "0                 42          107           0  \n",
       "1                 32          127           1  \n",
       "2                 40          131           1  \n",
       "3                 30          123           0  \n",
       "4                 39          147           0  "
      ]
     },
     "execution_count": 2,
     "metadata": {},
     "output_type": "execute_result"
    }
   ],
   "source": [
    "tam=1000\n",
    "\"\"\"def crearLista(x):\n",
    "    listaTipos=['transferencia','deposito','extraccion']\n",
    "    listaReturn=[]\n",
    "    for i in range(x):\n",
    "        listaReturn.append(listaTipos[random.randint(0,2)])\n",
    "    return listaReturn \"\"\"\n",
    "\n",
    "def random_date(start, end, tiempo):\n",
    "    \"\"\"Generate a random datetime between `start` and `end`\"\"\"\n",
    "    x = start + datetime.timedelta(seconds=random.randint(0, int((end - start).total_seconds())),\n",
    "    ) \n",
    "    dicc = {'dia': x.day,'mes': x.month,'anio':x.year}\n",
    "    return dicc[tiempo]\n",
    "\n",
    "m=[]\n",
    "for x in range (tam): \n",
    "    m.append(random_date(pd.to_datetime('1/1/2016'),pd.to_datetime('1/1/2018'),'mes'))\n",
    "a=[]\n",
    "for x in range (tam): \n",
    "    a.append(random_date(pd.to_datetime('1/1/2016'),pd.to_datetime('1/1/2018'),'anio'))\n",
    "d=[]\n",
    "for x in range (tam): \n",
    "    d.append(random_date(pd.to_datetime('1/1/2016'),pd.to_datetime('1/1/2018'),'mes'))\n",
    "\n",
    "hospital = {'dia_nacimiento':d, \n",
    "          'mes_nacimiento':m, \n",
    "          'anio_nacimiento':a, \n",
    "          'peso_al_nacer':np.random.uniform(0.1,8,size=tam), \n",
    "          'longitud_al_nacer':np.random.randint(20,50,size=tam), \n",
    "          'id_hospital':np.random.randint(100,150,size=tam),\n",
    "          'tipo_parto':np.random.randint(0,2,size=tam)}\n",
    "hos = pd.DataFrame(hospital)\n",
    "hos.head()"
   ]
  },
  {
   "cell_type": "code",
   "execution_count": 3,
   "metadata": {},
   "outputs": [
    {
     "data": {
      "text/html": [
       "<div>\n",
       "<style scoped>\n",
       "    .dataframe tbody tr th:only-of-type {\n",
       "        vertical-align: middle;\n",
       "    }\n",
       "\n",
       "    .dataframe tbody tr th {\n",
       "        vertical-align: top;\n",
       "    }\n",
       "\n",
       "    .dataframe thead th {\n",
       "        text-align: right;\n",
       "    }\n",
       "</style>\n",
       "<table border=\"1\" class=\"dataframe\">\n",
       "  <thead>\n",
       "    <tr style=\"text-align: right;\">\n",
       "      <th></th>\n",
       "      <th>direccion</th>\n",
       "      <th>id_hospital</th>\n",
       "      <th>promedio_nacimientos_mensual</th>\n",
       "    </tr>\n",
       "  </thead>\n",
       "  <tbody>\n",
       "    <tr>\n",
       "      <th>0</th>\n",
       "      <td>37</td>\n",
       "      <td>479</td>\n",
       "      <td>2.408913</td>\n",
       "    </tr>\n",
       "    <tr>\n",
       "      <th>1</th>\n",
       "      <td>36</td>\n",
       "      <td>645</td>\n",
       "      <td>0.143461</td>\n",
       "    </tr>\n",
       "    <tr>\n",
       "      <th>2</th>\n",
       "      <td>43</td>\n",
       "      <td>1090</td>\n",
       "      <td>3.738418</td>\n",
       "    </tr>\n",
       "    <tr>\n",
       "      <th>3</th>\n",
       "      <td>36</td>\n",
       "      <td>1022</td>\n",
       "      <td>1.257626</td>\n",
       "    </tr>\n",
       "    <tr>\n",
       "      <th>4</th>\n",
       "      <td>47</td>\n",
       "      <td>109</td>\n",
       "      <td>0.980751</td>\n",
       "    </tr>\n",
       "  </tbody>\n",
       "</table>\n",
       "</div>"
      ],
      "text/plain": [
       "   direccion  id_hospital  promedio_nacimientos_mensual\n",
       "0         37          479                      2.408913\n",
       "1         36          645                      0.143461\n",
       "2         43         1090                      3.738418\n",
       "3         36         1022                      1.257626\n",
       "4         47          109                      0.980751"
      ]
     },
     "execution_count": 3,
     "metadata": {},
     "output_type": "execute_result"
    }
   ],
   "source": [
    "tam=1000\n",
    "\"\"\"def crearLista(x):\n",
    "    listaTipos=['transferencia','deposito','extraccion']\n",
    "    listaReturn=[]\n",
    "    for i in range(x):\n",
    "        listaReturn.append(listaTipos[random.randint(0,2)])\n",
    "    return listaReturn \"\"\"\n",
    "\n",
    "\n",
    "ebooks = {'direccion':np.random.randint(20,50,size=tam), \n",
    "          'id_hospital':random.sample(range(100,100+tam),tam),\n",
    "          'promedio_nacimientos_mensual':np.random.uniform(0,4,size=tam)}\n",
    "eb = pd.DataFrame(ebooks)\n",
    "eb.head()"
   ]
  },
  {
   "cell_type": "markdown",
   "metadata": {},
   "source": [
    "A. Calcular la cantidad de nacimientos para cada uno de los hospitales para el mes de Octubre de 2017 e indicar aquellos hospitales que superan el promedio de nacimientos mensuales. "
   ]
  },
  {
   "cell_type": "code",
   "execution_count": 4,
   "metadata": {},
   "outputs": [
    {
     "data": {
      "text/html": [
       "<div>\n",
       "<style scoped>\n",
       "    .dataframe tbody tr th:only-of-type {\n",
       "        vertical-align: middle;\n",
       "    }\n",
       "\n",
       "    .dataframe tbody tr th {\n",
       "        vertical-align: top;\n",
       "    }\n",
       "\n",
       "    .dataframe thead th {\n",
       "        text-align: right;\n",
       "    }\n",
       "</style>\n",
       "<table border=\"1\" class=\"dataframe\">\n",
       "  <thead>\n",
       "    <tr style=\"text-align: right;\">\n",
       "      <th></th>\n",
       "      <th>id_hospital</th>\n",
       "      <th>count</th>\n",
       "      <th>min</th>\n",
       "    </tr>\n",
       "  </thead>\n",
       "  <tbody>\n",
       "    <tr>\n",
       "      <th>0</th>\n",
       "      <td>100</td>\n",
       "      <td>4</td>\n",
       "      <td>0.058281</td>\n",
       "    </tr>\n",
       "    <tr>\n",
       "      <th>1</th>\n",
       "      <td>101</td>\n",
       "      <td>3</td>\n",
       "      <td>0.195133</td>\n",
       "    </tr>\n",
       "    <tr>\n",
       "      <th>2</th>\n",
       "      <td>102</td>\n",
       "      <td>1</td>\n",
       "      <td>2.626788</td>\n",
       "    </tr>\n",
       "    <tr>\n",
       "      <th>3</th>\n",
       "      <td>103</td>\n",
       "      <td>1</td>\n",
       "      <td>0.794665</td>\n",
       "    </tr>\n",
       "    <tr>\n",
       "      <th>4</th>\n",
       "      <td>106</td>\n",
       "      <td>1</td>\n",
       "      <td>2.182471</td>\n",
       "    </tr>\n",
       "  </tbody>\n",
       "</table>\n",
       "</div>"
      ],
      "text/plain": [
       "   id_hospital  count       min\n",
       "0          100      4  0.058281\n",
       "1          101      3  0.195133\n",
       "2          102      1  2.626788\n",
       "3          103      1  0.794665\n",
       "4          106      1  2.182471"
      ]
     },
     "execution_count": 4,
     "metadata": {},
     "output_type": "execute_result"
    }
   ],
   "source": [
    "nwdf=hos.merge(eb,on='id_hospital').groupby(['mes_nacimiento','anio_nacimiento']).get_group((10,2017)).groupby(\n",
    "    'id_hospital').agg({'promedio_nacimientos_mensual':['count','min']})['promedio_nacimientos_mensual']\n",
    "nwdf.reset_index().head()"
   ]
  },
  {
   "cell_type": "code",
   "execution_count": 5,
   "metadata": {},
   "outputs": [],
   "source": [
    "nwdf['supero_promedio']=nwdf.apply(lambda x: x['count']>x['min'],axis=1)"
   ]
  },
  {
   "cell_type": "code",
   "execution_count": 6,
   "metadata": {},
   "outputs": [
    {
     "data": {
      "text/plain": [
       "Int64Index([100, 101, 103, 109, 115, 126, 134, 148], dtype='int64', name='id_hospital')"
      ]
     },
     "execution_count": 6,
     "metadata": {},
     "output_type": "execute_result"
    }
   ],
   "source": [
    "nwdf.drop(nwdf[nwdf['supero_promedio']==False].index,inplace=True)\n",
    "nwdf.index"
   ]
  },
  {
   "cell_type": "markdown",
   "metadata": {},
   "source": [
    "B. Comparando el mes de Octubre de 2017 indicar programáticamente si se incremento el % de cesáreas con respecto a ese mes del año 2016."
   ]
  },
  {
   "cell_type": "code",
   "execution_count": 7,
   "metadata": {},
   "outputs": [
    {
     "data": {
      "text/plain": [
       "False"
      ]
     },
     "execution_count": 7,
     "metadata": {},
     "output_type": "execute_result"
    }
   ],
   "source": [
    "def calcPorc(mes,anio):\n",
    "    cdf = hos.groupby(['mes_nacimiento','anio_nacimiento']).get_group((mes,anio)).agg({'tipo_parto':['sum','count']}) \n",
    "    return cdf.loc['sum','tipo_parto']/cdf.loc['count','tipo_parto']\n",
    "\n",
    "True if calcPorc(10,2017)>calcPorc(10,2016) else False"
   ]
  },
  {
   "cell_type": "code",
   "execution_count": 8,
   "metadata": {},
   "outputs": [
    {
     "data": {
      "text/plain": [
       "0.46153846153846156"
      ]
     },
     "execution_count": 8,
     "metadata": {},
     "output_type": "execute_result"
    }
   ],
   "source": []
  }
 ],
 "metadata": {
  "kernelspec": {
   "display_name": "Python 3",
   "language": "python",
   "name": "python3"
  },
  "language_info": {
   "codemirror_mode": {
    "name": "ipython",
    "version": 3
   },
   "file_extension": ".py",
   "mimetype": "text/x-python",
   "name": "python",
   "nbconvert_exporter": "python",
   "pygments_lexer": "ipython3",
   "version": "3.7.6"
  }
 },
 "nbformat": 4,
 "nbformat_minor": 4
}
